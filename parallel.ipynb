{
 "cells": [
  {
   "cell_type": "markdown",
   "metadata": {},
   "source": [
    "# Parallel in Python\n",
    "The cannonical implemntion of Python, `CPython`, uses a *Global Interpreter Lock*, which only allows one thread to interpret the binaries at a time. Hence it is easier to be multithreaded but cannot take advantage of multiprocessor architecture (or also multicore?). To get around that we need some specialized libraries that instead of using the usual Python threads use *subprocesses*, like `multiprocessing`, see [docs](https://docs.python.org/2/library/multiprocessing.html).\n",
    "\n",
    "Another possible module is `threading`, but it doesn't have the `p = Pool(processes=4)` which is useful to **parallelize the execution of a function accross different inputs** by then using `"
   ]
  },
  {
   "cell_type": "code",
   "execution_count": 1,
   "metadata": {
    "collapsed": false
   },
   "outputs": [
    {
     "name": "stdout",
     "output_type": "stream",
     "text": [
      "[0, 1, 4, 9, 16, 25, 36, 49, 64, 81]\n"
     ]
    }
   ],
   "source": [
    "import multiprocessing as mp\n",
    "def f(x):\n",
    "    return x*x\n",
    "\n",
    "p = mp.Pool(4)\n",
    "res = p.map(f,range(10))\n",
    "print res"
   ]
  },
  {
   "cell_type": "code",
   "execution_count": 22,
   "metadata": {
    "collapsed": false
   },
   "outputs": [
    {
     "data": {
      "text/plain": [
       "8"
      ]
     },
     "execution_count": 22,
     "metadata": {},
     "output_type": "execute_result"
    }
   ],
   "source": [
    "mp.cpu_count()"
   ]
  },
  {
   "cell_type": "code",
   "execution_count": 20,
   "metadata": {
    "collapsed": false
   },
   "outputs": [
    {
     "name": "stdout",
     "output_type": "stream",
     "text": [
      "main line\n",
      "module name: __main__\n",
      "parent process: 90430\n",
      "process id: 95479 \n",
      "\n",
      "main line\n",
      "module name: __main__\n",
      "parent process: 90430\n",
      "process id: 95479 \n",
      "\n",
      "function f\n",
      "module name: __main__\n",
      "parent process: 95479\n",
      "process id: 95540 \n",
      "\n",
      "hello [1, 2] \n",
      "----\n",
      "\n",
      "main line\n",
      "module name: __main__\n",
      "parent process: 90430\n",
      "process id: 95479 \n",
      "\n",
      "main line\n",
      "module name: __main__\n",
      "parent process: 90430\n",
      "process id: 95479 \n",
      "\n",
      "function f\n",
      "module name: __main__\n",
      "parent process: 90430\n",
      "process id: 95479 \n",
      "\n",
      "hello [1, 2] \n",
      "----\n",
      "\n"
     ]
    }
   ],
   "source": [
    "from multiprocessing import Process\n",
    "import os\n",
    "\n",
    "def info(title):\n",
    "    print title\n",
    "    print 'module name:', __name__\n",
    "    if hasattr(os, 'getppid'):  # only available on Unix\n",
    "        print 'parent process:', os.getppid()\n",
    "    print 'process id:', os.getpid(),'\\n'\n",
    "\n",
    "def f(name):\n",
    "    info('function f')\n",
    "    print 'hello', name,'\\n----\\n'\n",
    "\n",
    "if __name__ == '__main__':\n",
    "    info('main line')\n",
    "    p = Process(target=f, args=([1,2],))\n",
    "    info('main line')\n",
    "    p.start()\n",
    "    info('main line')\n",
    "    p.join()\n",
    "    info('main line')\n",
    "    p.run()\n",
    "    p.join()"
   ]
  },
  {
   "cell_type": "code",
   "execution_count": 6,
   "metadata": {
    "collapsed": false
   },
   "outputs": [
    {
     "name": "stdout",
     "output_type": "stream",
     "text": [
      "[ 10000.  10000.  10000.  10000.  10000.  10000.  10000.  10000.  10000.\n",
      "  10000.]\n"
     ]
    }
   ],
   "source": [
    "from __future__ import print_function\n",
    "import numpy as np\n",
    "import theano\n",
    "import theano.tensor as TT\n",
    "import multiprocessing as mp\n",
    "from contextlib import closing\n",
    "\n",
    "\n",
    "def new_shared_mem_array(init_val):\n",
    "    typecode = init_val.dtype.char\n",
    "    arr = mp.Array(typecode, np.prod(init_val.shape))\n",
    "    nparr = np.frombuffer(arr.get_obj())\n",
    "    nparr.shape = init_val.shape\n",
    "    return nparr\n",
    "\n",
    "\n",
    "def init_worker(x):\n",
    "    global x_\n",
    "    x_ = x\n",
    "    x_var = theano.shared(np.zeros_like(x), borrow=True)\n",
    "    x_var.set_value(x_, borrow=True)\n",
    "    global f_update\n",
    "    f_update = theano.function(\n",
    "        inputs=[],\n",
    "        outputs=[],\n",
    "        updates=[(x_var, x_var + TT.ones_like(x_var))]\n",
    "    )\n",
    "\n",
    "\n",
    "def update_x(*args, **kwargs):\n",
    "    global f_update\n",
    "    f_update()\n",
    "\n",
    "\n",
    "def main():\n",
    "    x = np.zeros(10)\n",
    "    x = new_shared_mem_array(x)\n",
    "    with closing(mp.Pool(initializer=init_worker, initargs=(x,))) as p:\n",
    "        p.map(update_x, xrange(10000))\n",
    "    print(x)\n",
    "\n",
    "main()"
   ]
  },
  {
   "cell_type": "code",
   "execution_count": 10,
   "metadata": {
    "collapsed": false
   },
   "outputs": [
    {
     "data": {
      "text/plain": [
       "'l'"
      ]
     },
     "execution_count": 10,
     "metadata": {},
     "output_type": "execute_result"
    }
   ],
   "source": [
    "a = np.zeros(10, dtype=int)\n",
    "a.dtype.char"
   ]
  },
  {
   "cell_type": "markdown",
   "metadata": {},
   "source": [
    "How to launch different processes simultaneously?? This seems that even without the lock, the processes are started only one after the other!"
   ]
  },
  {
   "cell_type": "code",
   "execution_count": 11,
   "metadata": {
    "collapsed": false
   },
   "outputs": [
    {
     "name": "stdout",
     "output_type": "stream",
     "text": [
      "hello world 0\n",
      "hello world 1\n",
      "hello world 2\n",
      "hello world 3\n",
      "hello world 4\n",
      "hello world 5\n",
      "hello world 6\n",
      "hello world 7\n",
      "hello world 8\n",
      "hello world 9\n"
     ]
    }
   ],
   "source": [
    "from multiprocessing import Process, Lock\n",
    "\n",
    "def f(l, i):\n",
    "#     l.acquire()\n",
    "    print 'hello world', i\n",
    "#     l.release()\n",
    "\n",
    "if __name__ == '__main__':\n",
    "    lock = Lock()\n",
    "\n",
    "    for num in range(10):\n",
    "        Process(target=f, args=(lock, num)).start()"
   ]
  },
  {
   "cell_type": "markdown",
   "metadata": {},
   "source": [
    "## Shared memory\n",
    "It explicitly says \"These shared objects will be process and thread-safe.\"!! Hence there is no way to do hogwild.."
   ]
  },
  {
   "cell_type": "code",
   "execution_count": null,
   "metadata": {
    "collapsed": true
   },
   "outputs": [],
   "source": []
  }
 ],
 "metadata": {
  "kernelspec": {
   "display_name": "Python 2",
   "language": "python",
   "name": "python2"
  },
  "language_info": {
   "codemirror_mode": {
    "name": "ipython",
    "version": 2
   },
   "file_extension": ".py",
   "mimetype": "text/x-python",
   "name": "python",
   "nbconvert_exporter": "python",
   "pygments_lexer": "ipython2",
   "version": "2.7.11"
  }
 },
 "nbformat": 4,
 "nbformat_minor": 0
}
