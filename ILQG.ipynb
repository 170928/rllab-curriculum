{
 "cells": [
  {
   "cell_type": "markdown",
   "metadata": {},
   "source": [
    "# Iterative LQG\n",
    "\n",
    "This notebook implements the ILQG method, as described in the following paper:\n",
    "\n",
    "[A generalized iterative LQG method for locally-optimal feedback\n",
    "control of constrained nonlinear stochastic systems](http://maeresearch.ucsd.edu/skelton/publications/weiwei_ilqg_CDC43.pdf)"
   ]
  },
  {
   "cell_type": "markdown",
   "metadata": {},
   "source": [
    "In general, suppose that we have the following dynamical system:\n",
    "\n",
    "$$ x_{k+1} = f(x_{k}, u_{k})$$\n",
    "$$ J_0 = \\frac{1}{2} (x_N - x^*)^TQ_f(x_N - x^*) + \\frac{1}{2} \\sum_{k=0}^{T-1}(x_k^TQx_k + u_k^TRu_k) $$"
   ]
  },
  {
   "cell_type": "code",
   "execution_count": 89,
   "metadata": {
    "collapsed": false
   },
   "outputs": [
    {
     "name": "stdout",
     "output_type": "stream",
     "text": [
      "[  3.14159265e+00   6.00076932e-18]\n"
     ]
    }
   ],
   "source": [
    "import numpy as np\n",
    "\n",
    "# The problem that iLQG faces is kind of a different flavor\n",
    "# from typical RL problems. Here we usually assume a nonlinear dynamical system,\n",
    "# whose cost can be locally approximated by a positive definite quadratic cost,\n",
    "# and where the dynamics can be locally linearized.\n",
    "# Let's first port the matlab version of iLQR to Python. The matlab version was authored\n",
    "# by Timothy Lillicrap (http://limb.biomed.queensu.ca/lab_members/timothylillicrap/projects.php)\n",
    "\n",
    "def pendulum_dynamics(x, u, dt):\n",
    "    g = 9.8\n",
    "    m = 1.0 \n",
    "    l = 1.0 # length of the rod\n",
    "    mu = 0.01 # friction coefficient\n",
    "    th, thdot = x\n",
    "    u0 = u[0]\n",
    "    newth = th + thdot*dt\n",
    "    newthdot = thdot + ( (-mu/(m*l**2))*thdot + (g/l)*np.sin(th) + u/(m*l**2) ) * dt\n",
    "    return np.array([newth, newthdot])\n",
    "\n",
    "print pendulum_dynamics(np.array([np.pi, 0]), np.array([0]), 0.005)"
   ]
  },
  {
   "cell_type": "code",
   "execution_count": 90,
   "metadata": {
    "collapsed": true
   },
   "outputs": [],
   "source": [
    "def ilqr_forward_pass(x0, uref, sysdyn, cost_func, final_cost_func, K=None, xref=None):\n",
    "    \n",
    "    Dx = len(x0)\n",
    "    N, Du = uref.shape\n",
    "    x = np.zeros((N+1, Dx))\n",
    "    uout = np.zeros((N, Du))\n",
    "    cost = 0\n",
    "    x[0] = x0\n",
    "    for t in range(N):\n",
    "        if K is not None and xref is not None:\n",
    "            u = uref[t] + K[t].dot(x[t] - xref[t])\n",
    "        else:\n",
    "            u = uref[t]\n",
    "        x[t+1] = sysdyn(x[t], u)\n",
    "        cost += cost_func(x[t], u)\n",
    "        uout[t] = u\n",
    "    cost += final_cost_func(x[N])\n",
    "    return x, cost, uout"
   ]
  },
  {
   "cell_type": "code",
   "execution_count": 91,
   "metadata": {
    "collapsed": true
   },
   "outputs": [],
   "source": [
    "def fd_jacobian(x, f, eps=1e-5):\n",
    "    Nx = len(x)\n",
    "    Nf = len(f(x))\n",
    "    J = np.zeros((Nf, Nx))\n",
    "    eyex = np.eye(Nx)\n",
    "    for dx in range(Nx):\n",
    "        xp = x + eyex[dx] * eps\n",
    "        xn = x - eyex[dx] * eps\n",
    "        J[:, dx] = (f(xp) - f(xn)) / (2*eps)\n",
    "    return J\n",
    "\n",
    "def fd_grad(x, f, eps=1e-5):\n",
    "    Nx = len(x)\n",
    "    g = np.zeros(Nx)\n",
    "    eyex = np.eye(Nx)\n",
    "    for dx in range(Nx):\n",
    "        xp = x + eyex[dx] * eps\n",
    "        xn = x - eyex[dx] * eps\n",
    "        g[dx] = (f(xp) - f(xn)) / (2*eps)\n",
    "    return g\n",
    "\n",
    "def ilqr_linearize(x, u, sysdyn, cost_func, final_cost_func):\n",
    "    \n",
    "    Dx = x.shape[1]\n",
    "    N, Du = u.shape\n",
    "    fx = np.zeros((N, Dx, Dx))\n",
    "    fu = np.zeros((N, Dx, Du))\n",
    "    cx = np.zeros((N+1, Dx))\n",
    "    cu = np.zeros((N, Du))\n",
    "    cxx = np.zeros((N+1, Dx, Dx))\n",
    "    cuu = np.zeros((N, Du, Du))\n",
    "    cxu = np.zeros((N, Dx, Du))\n",
    "\n",
    "    for k in range(N):\n",
    "        fx[k] = jacobian(x[k], lambda x: sysdyn(x, u[k]))\n",
    "        fu[k] = jacobian(u[k], lambda u: sysdyn(x[k], u))\n",
    "        cx[k] = grad(x[k], lambda x: cost_func(x, u[k]))\n",
    "        cu[k] = grad(u[k], lambda u: cost_func(x[k], u))\n",
    "        cxu[k] = jacobian(u[k], lambda u: grad(x[k], lambda x: cost_func(x, u)))\n",
    "        cuu[k] = jacobian(u[k], lambda u: grad(u, lambda u: cost_func(x[k], u)))\n",
    "        \n",
    "    cx[N] = grad(x[N], final_cost_func)\n",
    "    cxx[N] = jacobian(x[N], lambda x: grad(x, final_cost_func))\n",
    "    return fx, fu, cx, cu, cxx, cxu, cuu"
   ]
  },
  {
   "cell_type": "code",
   "execution_count": 92,
   "metadata": {
    "collapsed": true
   },
   "outputs": [],
   "source": [
    "def ilqr_backward_pass(x, u, sysdyn, cost_func, final_cost_func):\n",
    "    Dx = x.shape[1]\n",
    "    N, Du = u.shape\n",
    "    fx, fu, cx, cu, cxx, cxu, cuu = ilqr_linearize(x, u, sysdyn, cost_func, final_cost_func)\n",
    "    \n",
    "    Vx = np.zeros((N+1, Dx))\n",
    "    Vxx = np.zeros((N+1, Dx, Dx))\n",
    "    Vx[N] = cx[N]\n",
    "    Vxx[N] = cxx[N]\n",
    "    k = np.zeros((N, Du))\n",
    "    K = np.zeros((N, Du, Dx))\n",
    "    \n",
    "    # dVx and dVxx are used for computing the expected reduction in cost\n",
    "    # dV ~ -alpha*Q_u.T*k - alpha^2*k.T*Q_uu*k\n",
    "    dVx = 0\n",
    "    dVxx = 0\n",
    "    \n",
    "    for t in range(N-1, -1, -1):\n",
    "        Qx = cx[t] + fx[t].T.dot(Vx[t+1])\n",
    "        Qu = cu[t] + fu[t].T.dot(Vx[t+1])\n",
    "        Qxx = cxx[t] + fx[t].T.dot(Vxx[t+1]).dot(fx[t])\n",
    "        # TODO regularize\n",
    "        Qux = cxu[t].T + fu[t].T.dot(Vxx[t+1]).dot(fx[t])\n",
    "        Quu = cuu[t] + fu[t].T.dot(Vxx[t+1]).dot(fu[t])\n",
    "        \n",
    "        # TODO regularize\n",
    "        k[t] = -np.linalg.inv(Quu)*Qu\n",
    "        K[t] = -np.linalg.inv(Quu)*Qux\n",
    "        \n",
    "        Vx[t] = Qx - K[t].T.dot(Quu).dot(k[t])\n",
    "        Vxx[t] = Qxx - K[t].T.dot(Quu).dot(K[t])\n",
    "        \n",
    "        dVx += np.inner(k[t], Qu)\n",
    "        dVxx += 0.5*k[t].T.dot(Quu).dot(k[t])\n",
    "    return Vx, Vxx, k, K, dVx, dVxx"
   ]
  },
  {
   "cell_type": "code",
   "execution_count": 93,
   "metadata": {
    "collapsed": false,
    "scrolled": true
   },
   "outputs": [
    {
     "name": "stdout",
     "output_type": "stream",
     "text": [
      "195787.655077\n",
      "37.182959596\n",
      "0.696063905125\n",
      "0.468757617223\n",
      "0.468726219721\n",
      "converged\n"
     ]
    }
   ],
   "source": [
    "def ilqr(x0, u0, sysdyn, cost_func, final_cost_func,\n",
    "         max_iter=20,\n",
    "         min_reduction=0,\n",
    "         max_line_search_iter=8,\n",
    "        ):\n",
    "    \n",
    "    Dx = len(x0)\n",
    "    Du = u0.shape[1]\n",
    "    N = len(u0)\n",
    "    \n",
    "    u = u0\n",
    "    \n",
    "    for itr in range(max_iter):\n",
    "        x, cost, _ = ilqr_forward_pass(x0, u, sysdyn, cost_func, final_cost_func)\n",
    "        print cost\n",
    "        Vx, Vxx, k, K, dVx, dVxx = ilqr_backward_pass(x, u, sysdyn, cost_func, final_cost_func)\n",
    "        alpha = 1\n",
    "        for _ in range(max_line_search_iter):\n",
    "            # unew is different from u+alpha*k because of the feedback control term\n",
    "            xnew, cnew, unew = ilqr_forward_pass(x0, u+alpha*k, sysdyn, cost_func, final_cost_func, K, x)\n",
    "            dcost = cost - cnew\n",
    "            expected = -alpha*(dVx+alpha*dVxx)\n",
    "            if expected < 0:\n",
    "                raise ValueError('should not happen')\n",
    "            if dcost / expected > min_reduction:\n",
    "                break\n",
    "            else:\n",
    "                alpha = alpha * 0.5\n",
    "        u = unew\n",
    "        if abs(cost - cnew) < 1e-6:\n",
    "            print 'converged'\n",
    "            break\n",
    "        cost = cnew\n",
    "\n",
    "u0 = np.ones((120, 1))*1000\n",
    "x0 = np.array([np.pi, 0])\n",
    "xf = np.array([0, 0])\n",
    "Qf = np.diag([1, 1])\n",
    "Q = np.zeros((2, 2))\n",
    "R = 1e-5*np.eye(1)\n",
    "dt = 5e-3\n",
    "n_itr = 20\n",
    "threshold = 0\n",
    "    \n",
    "ilqr(x0, u0, (lambda x, u: pendulum_dynamics(x, u, dt)), (lambda x, u: 0.5*x.T.dot(Q).dot(x) + 0.5*u.T.dot(R).dot(u)), (lambda x: 0.5*(x - xf).T.dot(Qf).dot(x - xf)))"
   ]
  }
 ],
 "metadata": {
  "kernelspec": {
   "display_name": "Python 2",
   "language": "python",
   "name": "python2"
  },
  "language_info": {
   "codemirror_mode": {
    "name": "ipython",
    "version": 2
   },
   "file_extension": ".py",
   "mimetype": "text/x-python",
   "name": "python",
   "nbconvert_exporter": "python",
   "pygments_lexer": "ipython2",
   "version": "2.7.6"
  }
 },
 "nbformat": 4,
 "nbformat_minor": 0
}
