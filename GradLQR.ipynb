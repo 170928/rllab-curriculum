{
 "cells": [
  {
   "cell_type": "code",
   "execution_count": 1,
   "metadata": {
    "collapsed": false
   },
   "outputs": [
    {
     "name": "stderr",
     "output_type": "stream",
     "text": [
      "ERROR: Line magic function `%autoreload` not found.\n"
     ]
    }
   ],
   "source": [
    "%matplotlib inline\n",
    "%autoreload 2\n",
    "import os\n",
    "os.environ[\"CGT_COMPAT_MODE\"] = \"theano\"\n",
    "os.environ[\"THEANO_FLAGS\"] = \"device=cpu\"\n"
   ]
  },
  {
   "cell_type": "code",
   "execution_count": 2,
   "metadata": {
    "collapsed": false
   },
   "outputs": [
    {
     "name": "stdout",
     "output_type": "stream",
     "text": [
      "Using Theano for TensorFuse\n"
     ]
    }
   ],
   "source": [
    "import tensorfuse as theano\n",
    "import tensorfuse.tensor as TT\n",
    "import numpy as np"
   ]
  },
  {
   "cell_type": "code",
   "execution_count": 3,
   "metadata": {
    "collapsed": true
   },
   "outputs": [],
   "source": [
    "state_dim = 2\n",
    "action_dim = 1"
   ]
  },
  {
   "cell_type": "code",
   "execution_count": 4,
   "metadata": {
    "collapsed": false
   },
   "outputs": [],
   "source": [
    "A = np.random.randn(state_dim, state_dim)\n",
    "B = np.random.randn(state_dim, action_dim)\n",
    "Q = np.random.randn(state_dim, state_dim)\n",
    "R = np.random.randn(action_dim, action_dim)\n",
    "\n",
    "for name in [\"A\", \"B\", \"Q\", \"R\"]:\n",
    "    def gen(name):\n",
    "        return lambda x: globals()[name]\n",
    "    globals()[\"get_%s\" % name] = gen(name)"
   ]
  },
  {
   "cell_type": "code",
   "execution_count": 5,
   "metadata": {
    "collapsed": false
   },
   "outputs": [],
   "source": [
    "class MultivariateGaussian(object):\n",
    "    def __init__(self, mu, cov):\n",
    "        self._mu = mu\n",
    "        self._cov = cov\n",
    "    \n",
    "    @property\n",
    "    def mu(self):\n",
    "        return self._mu\n",
    "    \n",
    "    @property\n",
    "    def cov(self):\n",
    "        return self._cov\n",
    "    \n",
    "    @staticmethod\n",
    "    def pluck(x):\n",
    "        if isinstance(x, MultivariateGaussian):\n",
    "            return x.mu, x.cov\n",
    "        else:\n",
    "            return x, 0\n",
    "\n",
    "    @staticmethod\n",
    "    def dot(a, b):\n",
    "        b_mu, b_cov = MultivariateGaussian.pluck(b)\n",
    "        return MultivariateGaussian(TT.dot(a, b_mu), TT.dot(a, b_cov).dot(a.T))\n",
    "\n",
    "    @staticmethod\n",
    "    def add(a, b):\n",
    "        a_mu, a_cov = MultivariateGaussian.pluck(a)\n",
    "        b_mu, b_cov = MultivariateGaussian.pluck(b)\n",
    "\n",
    "        return MultivariateGaussian(a_mu + b_mu, a_cov + b_cov)\n",
    "    \n",
    "    def __str__(self):\n",
    "        return \"Mu: %s, Cov: %s\" % (self.mu, self.cov)\n",
    "    \n",
    "    def __repr__(self):\n",
    "        return self.__str__()\n",
    "    \n",
    "    \n",
    "\n",
    "M = MultivariateGaussian\n",
    "\n",
    "Sigma = np.identity(action_dim) * 0.01\n",
    "control_noise = MultivariateGaussian(0, Sigma)\n",
    "W = theano.shared(np.random.randn(action_dim, state_dim))\n",
    "b = theano.shared(np.random.randn(action_dim, 1))\n",
    "\n",
    "def linear_policy(x):\n",
    "    return M.add(M.add(M.dot(W, x), b), control_noise)\n",
    "\n",
    "def next_state(t, x_t, u_t):\n",
    "    return M.add(\n",
    "        M.dot(get_A(t), x_t),\n",
    "        M.dot(get_B(t), u_t)\n",
    "    )\n",
    "\n",
    "def step_cost(t, x_t, u_t):\n",
    "    Q = get_Q(t)\n",
    "    R = get_R(t)\n",
    "    static = x_t.mu.T.dot(Q).dot(x_t.mu) + u_t.mu.T.dot(R).dot(u_t.mu)\n",
    "    var = TT.sum(Q * x_t.cov) + TT.sum(R * u_t.cov)\n",
    "    return static + var\n"
   ]
  },
  {
   "cell_type": "code",
   "execution_count": 308,
   "metadata": {
    "collapsed": false
   },
   "outputs": [],
   "source": [
    "x0 = MultivariateGaussian(np.random.random((state_dim, 1)), 0)\n",
    "H = 2\n",
    "E_xs = [None for _ in xrange(H)]\n",
    "E_xs[0] = x0\n",
    "E_us = [None for _ in xrange(H)]\n",
    "E_cs = [None for _ in xrange(H)]\n",
    "for t in xrange(H):\n",
    "    x_t = E_xs[t]\n",
    "    u_t = linear_policy(x_t)\n",
    "    x_tp = next_state(t, x_t, u_t)\n",
    "    if t+1 < H:\n",
    "        E_xs[t+1] = x_tp\n",
    "    E_us[t] = u_t\n",
    "    E_cs[t] = step_cost(t, x_t, u_t)"
   ]
  },
  {
   "cell_type": "code",
   "execution_count": 309,
   "metadata": {
    "collapsed": false
   },
   "outputs": [
    {
     "name": "stdout",
     "output_type": "stream",
     "text": [
      "-15.8882516767\n",
      "[[ 22.75858175  -6.08293098]] [[ 24.70739033]]\n"
     ]
    }
   ],
   "source": [
    "### print E_cs\n",
    "s_cost = TT.sum(E_cs)\n",
    "cost = s_cost.eval()\n",
    "print cost\n",
    "s_dW, s_db = TT.grad(s_cost, [W, b])\n",
    "dW, db = s_dW.eval(), s_db.eval()\n",
    "print dW, db"
   ]
  },
  {
   "cell_type": "code",
   "execution_count": 319,
   "metadata": {
    "collapsed": false
   },
   "outputs": [
    {
     "data": {
      "text/plain": [
       "[array(-15.468293215428087),\n",
       " array([[ 0.0650786 ,  2.04510541]]),\n",
       " array([[ 5.28414415]])]"
      ]
     },
     "execution_count": 319,
     "metadata": {},
     "output_type": "execute_result"
    }
   ],
   "source": [
    "once(*[np.random.randn(action_dim).astype('float32') for _ in xrange(H)])"
   ]
  },
  {
   "cell_type": "code",
   "execution_count": 316,
   "metadata": {
    "collapsed": false
   },
   "outputs": [],
   "source": [
    "def normpdf(x, mean, var):\n",
    "    pi = np.pi\n",
    "    denom = (2*pi*var)**.5\n",
    "    num = TT.exp(-(x-mean)**2/(2*var))\n",
    "    return TT.exp(TT.sum(TT.log(num/denom)))\n",
    "\n",
    "def sym_grad_log_norm(x, mean, var, thetas):\n",
    "    return TT.grad(TT.log(normpdf(x, mean, var)), thetas)\n",
    "\n",
    "def grad_log_given(x, u):\n",
    "    pi = linear_policy(x)\n",
    "    return sym_grad_log_norm(u, pi.mu, TT.diag(pi.cov), [W, b])\n",
    "\n",
    "def gen_once():\n",
    "        E_xs = [None for _ in xrange(H)]\n",
    "        E_xs[0] = MultivariateGaussian(theano.shared(np.asarray(x0.mu)), theano.shared(np.asarray(x0.cov)))\n",
    "        E_us = [None for _ in xrange(H)]\n",
    "        E_cs = [None for _ in xrange(H)]\n",
    "        random_noises = [TT.vector(\"w_%i\" % i) for i in xrange(H)]\n",
    "        for t in xrange(H):\n",
    "            x_t = E_xs[t]\n",
    "            u_t = M.add(deterministic_linear_policy(x_t), TT.dot(Sigma, random_noises[t]))\n",
    "            x_tp = next_state(t, x_t, u_t)\n",
    "            if t+1 < H:\n",
    "                E_xs[t+1] = x_tp\n",
    "            E_us[t] = u_t\n",
    "            E_cs[t] = step_cost(t, x_t, u_t)\n",
    "        cum_dWs = []\n",
    "        cum_dbs = []\n",
    "        import theano.tensor as OT\n",
    "        cum_cs = OT.extra_ops.cumsum(E_cs[::-1])[::-1]\n",
    "        for t in xrange(H-2, -1, -1):\n",
    "            lW, lb = grad_log_given(xs[t], us[t])\n",
    "            cum_dWs.append(lW * cum_cs[t])\n",
    "            cum_dbs.append(lb * cum_cs[t])\n",
    "        return theano.function(random_noises, [TT.sum(E_cs), TT.sum(cum_dWs, axis=0), TT.sum(cum_dbs, axis=0)])\n",
    "    \n",
    "once = gen_once()\n",
    "def rollout(N = 100):\n",
    "    \n",
    "    return np.mean([once(*[np.random.randn(action_dim).astype('float32') for _ in xrange(H)]) for _ in xrange(N)], axis=0)\n"
   ]
  },
  {
   "cell_type": "code",
   "execution_count": 234,
   "metadata": {
    "collapsed": false
   },
   "outputs": [
    {
     "ename": "ValueError",
     "evalue": "setting an array element with a sequence.",
     "output_type": "error",
     "traceback": [
      "\u001b[0;31m---------------------------------------------------------------------------\u001b[0m",
      "\u001b[0;31mValueError\u001b[0m                                Traceback (most recent call last)",
      "\u001b[0;32m<ipython-input-234-ef27765848e8>\u001b[0m in \u001b[0;36m<module>\u001b[0;34m()\u001b[0m\n\u001b[0;32m----> 1\u001b[0;31m \u001b[0mrollout\u001b[0m\u001b[0;34m(\u001b[0m\u001b[0;34m)\u001b[0m\u001b[0;34m\u001b[0m\u001b[0m\n\u001b[0m",
      "\u001b[0;32m<ipython-input-232-3ad906558fe2>\u001b[0m in \u001b[0;36mrollout\u001b[0;34m(N)\u001b[0m\n\u001b[1;32m     39\u001b[0m \u001b[0;32mdef\u001b[0m \u001b[0mrollout\u001b[0m\u001b[0;34m(\u001b[0m\u001b[0mN\u001b[0m \u001b[0;34m=\u001b[0m \u001b[0;36m100\u001b[0m\u001b[0;34m)\u001b[0m\u001b[0;34m:\u001b[0m\u001b[0;34m\u001b[0m\u001b[0m\n\u001b[1;32m     40\u001b[0m \u001b[0;34m\u001b[0m\u001b[0m\n\u001b[0;32m---> 41\u001b[0;31m     \u001b[0;32mreturn\u001b[0m \u001b[0mnp\u001b[0m\u001b[0;34m.\u001b[0m\u001b[0mmean\u001b[0m\u001b[0;34m(\u001b[0m\u001b[0;34m[\u001b[0m\u001b[0monce\u001b[0m\u001b[0;34m(\u001b[0m\u001b[0;34m*\u001b[0m\u001b[0;34m[\u001b[0m\u001b[0mnp\u001b[0m\u001b[0;34m.\u001b[0m\u001b[0mrandom\u001b[0m\u001b[0;34m.\u001b[0m\u001b[0mrandn\u001b[0m\u001b[0;34m(\u001b[0m\u001b[0maction_dim\u001b[0m\u001b[0;34m)\u001b[0m\u001b[0;34m.\u001b[0m\u001b[0mastype\u001b[0m\u001b[0;34m(\u001b[0m\u001b[0;34m'float32'\u001b[0m\u001b[0;34m)\u001b[0m \u001b[0;32mfor\u001b[0m \u001b[0m_\u001b[0m \u001b[0;32min\u001b[0m \u001b[0mxrange\u001b[0m\u001b[0;34m(\u001b[0m\u001b[0mH\u001b[0m\u001b[0;34m)\u001b[0m\u001b[0;34m]\u001b[0m\u001b[0;34m)\u001b[0m \u001b[0;32mfor\u001b[0m \u001b[0m_\u001b[0m \u001b[0;32min\u001b[0m \u001b[0mxrange\u001b[0m\u001b[0;34m(\u001b[0m\u001b[0mN\u001b[0m\u001b[0;34m)\u001b[0m\u001b[0;34m]\u001b[0m\u001b[0;34m,\u001b[0m \u001b[0maxis\u001b[0m\u001b[0;34m=\u001b[0m\u001b[0;36m0\u001b[0m\u001b[0;34m)\u001b[0m\u001b[0;34m\u001b[0m\u001b[0m\n\u001b[0m",
      "\u001b[0;32m/Library/Python/2.7/site-packages/numpy/core/fromnumeric.pyc\u001b[0m in \u001b[0;36mmean\u001b[0;34m(a, axis, dtype, out, keepdims)\u001b[0m\n\u001b[1;32m   2733\u001b[0m \u001b[0;34m\u001b[0m\u001b[0m\n\u001b[1;32m   2734\u001b[0m     return _methods._mean(a, axis=axis, dtype=dtype,\n\u001b[0;32m-> 2735\u001b[0;31m                             out=out, keepdims=keepdims)\n\u001b[0m\u001b[1;32m   2736\u001b[0m \u001b[0;34m\u001b[0m\u001b[0m\n\u001b[1;32m   2737\u001b[0m \u001b[0;32mdef\u001b[0m \u001b[0mstd\u001b[0m\u001b[0;34m(\u001b[0m\u001b[0ma\u001b[0m\u001b[0;34m,\u001b[0m \u001b[0maxis\u001b[0m\u001b[0;34m=\u001b[0m\u001b[0mNone\u001b[0m\u001b[0;34m,\u001b[0m \u001b[0mdtype\u001b[0m\u001b[0;34m=\u001b[0m\u001b[0mNone\u001b[0m\u001b[0;34m,\u001b[0m \u001b[0mout\u001b[0m\u001b[0;34m=\u001b[0m\u001b[0mNone\u001b[0m\u001b[0;34m,\u001b[0m \u001b[0mddof\u001b[0m\u001b[0;34m=\u001b[0m\u001b[0;36m0\u001b[0m\u001b[0;34m,\u001b[0m \u001b[0mkeepdims\u001b[0m\u001b[0;34m=\u001b[0m\u001b[0mFalse\u001b[0m\u001b[0;34m)\u001b[0m\u001b[0;34m:\u001b[0m\u001b[0;34m\u001b[0m\u001b[0m\n",
      "\u001b[0;32m/Library/Python/2.7/site-packages/numpy/core/_methods.pyc\u001b[0m in \u001b[0;36m_mean\u001b[0;34m(a, axis, dtype, out, keepdims)\u001b[0m\n\u001b[1;32m     52\u001b[0m \u001b[0;34m\u001b[0m\u001b[0m\n\u001b[1;32m     53\u001b[0m \u001b[0;32mdef\u001b[0m \u001b[0m_mean\u001b[0m\u001b[0;34m(\u001b[0m\u001b[0ma\u001b[0m\u001b[0;34m,\u001b[0m \u001b[0maxis\u001b[0m\u001b[0;34m=\u001b[0m\u001b[0mNone\u001b[0m\u001b[0;34m,\u001b[0m \u001b[0mdtype\u001b[0m\u001b[0;34m=\u001b[0m\u001b[0mNone\u001b[0m\u001b[0;34m,\u001b[0m \u001b[0mout\u001b[0m\u001b[0;34m=\u001b[0m\u001b[0mNone\u001b[0m\u001b[0;34m,\u001b[0m \u001b[0mkeepdims\u001b[0m\u001b[0;34m=\u001b[0m\u001b[0mFalse\u001b[0m\u001b[0;34m)\u001b[0m\u001b[0;34m:\u001b[0m\u001b[0;34m\u001b[0m\u001b[0m\n\u001b[0;32m---> 54\u001b[0;31m     \u001b[0marr\u001b[0m \u001b[0;34m=\u001b[0m \u001b[0masanyarray\u001b[0m\u001b[0;34m(\u001b[0m\u001b[0ma\u001b[0m\u001b[0;34m)\u001b[0m\u001b[0;34m\u001b[0m\u001b[0m\n\u001b[0m\u001b[1;32m     55\u001b[0m \u001b[0;34m\u001b[0m\u001b[0m\n\u001b[1;32m     56\u001b[0m     \u001b[0mrcount\u001b[0m \u001b[0;34m=\u001b[0m \u001b[0m_count_reduce_items\u001b[0m\u001b[0;34m(\u001b[0m\u001b[0marr\u001b[0m\u001b[0;34m,\u001b[0m \u001b[0maxis\u001b[0m\u001b[0;34m)\u001b[0m\u001b[0;34m\u001b[0m\u001b[0m\n",
      "\u001b[0;32m/Library/Python/2.7/site-packages/numpy/core/numeric.pyc\u001b[0m in \u001b[0;36masanyarray\u001b[0;34m(a, dtype, order)\u001b[0m\n\u001b[1;32m    512\u001b[0m \u001b[0;34m\u001b[0m\u001b[0m\n\u001b[1;32m    513\u001b[0m     \"\"\"\n\u001b[0;32m--> 514\u001b[0;31m     \u001b[0;32mreturn\u001b[0m \u001b[0marray\u001b[0m\u001b[0;34m(\u001b[0m\u001b[0ma\u001b[0m\u001b[0;34m,\u001b[0m \u001b[0mdtype\u001b[0m\u001b[0;34m,\u001b[0m \u001b[0mcopy\u001b[0m\u001b[0;34m=\u001b[0m\u001b[0mFalse\u001b[0m\u001b[0;34m,\u001b[0m \u001b[0morder\u001b[0m\u001b[0;34m=\u001b[0m\u001b[0morder\u001b[0m\u001b[0;34m,\u001b[0m \u001b[0msubok\u001b[0m\u001b[0;34m=\u001b[0m\u001b[0mTrue\u001b[0m\u001b[0;34m)\u001b[0m\u001b[0;34m\u001b[0m\u001b[0m\n\u001b[0m\u001b[1;32m    515\u001b[0m \u001b[0;34m\u001b[0m\u001b[0m\n\u001b[1;32m    516\u001b[0m \u001b[0;32mdef\u001b[0m \u001b[0mascontiguousarray\u001b[0m\u001b[0;34m(\u001b[0m\u001b[0ma\u001b[0m\u001b[0;34m,\u001b[0m \u001b[0mdtype\u001b[0m\u001b[0;34m=\u001b[0m\u001b[0mNone\u001b[0m\u001b[0;34m)\u001b[0m\u001b[0;34m:\u001b[0m\u001b[0;34m\u001b[0m\u001b[0m\n",
      "\u001b[0;31mValueError\u001b[0m: setting an array element with a sequence."
     ]
    }
   ],
   "source": [
    "rollout()"
   ]
  },
  {
   "cell_type": "code",
   "execution_count": 235,
   "metadata": {
    "collapsed": false
   },
   "outputs": [
    {
     "data": {
      "text/plain": [
       "[array(-12.313152718894377),\n",
       " array([[ 0.06989664,  2.19651318]]),\n",
       " array([[ 5.67535161]])]"
      ]
     },
     "execution_count": 235,
     "metadata": {},
     "output_type": "execute_result"
    }
   ],
   "source": [
    "once(*[np.random.randn(action_dim).astype('float32') for _ in xrange(H)])"
   ]
  },
  {
   "cell_type": "code",
   "execution_count": 57,
   "metadata": {
    "collapsed": false
   },
   "outputs": [],
   "source": [
    "def gen_once():\n",
    "    E_xs = [None for _ in xrange(H)]\n",
    "    E_xs[0] = MultivariateGaussian(theano.shared(np.asarray(x0.mu)), theano.shared(np.asarray(x0.cov)))\n",
    "    E_us = [None for _ in xrange(H)]\n",
    "    E_cs = [None for _ in xrange(H)]\n",
    "    random_noises = [TT.vector(\"w_%i\" % i) for i in xrange(H)]\n",
    "    for t in xrange(H):\n",
    "        x_t = E_xs[t]\n",
    "        u_t = M.add(deterministic_linear_policy(x_t), TT.dot(Sigma, random_noises[t]))\n",
    "        x_tp = next_state(t, x_t, u_t)\n",
    "        if t+1 < H:\n",
    "            E_xs[t+1] = x_tp\n",
    "        E_us[t] = u_t\n",
    "        E_cs[t] = step_cost(t, x_t, u_t)\n",
    "#         print E_cs\n",
    "    return theano.function(random_noises, map(lambda l: TT.stack(map(lambda x: x.mu if isinstance(x, M) else (x), l)), [E_xs, E_us, E_cs]))\n",
    "once = gen_once()\n",
    "xs, us, cs = once(*[np.random.randn(action_dim).astype('float32') for _ in xrange(H)])\n",
    "cum_dW = 0.\n",
    "cum_db = 0.\n",
    "cum_c = cs[-1]\n",
    "for t in xrange(H-2, -1, -1):\n",
    "    lW, lb = grad_log_given(xs[t], us[t])\n",
    "    cum_dW += lW * cum_c\n",
    "    cum_db += lb * cum_c\n",
    "    cum_c += cs[t]\n"
   ]
  },
  {
   "cell_type": "code",
   "execution_count": 59,
   "metadata": {
    "collapsed": false
   },
   "outputs": [
    {
     "data": {
      "text/plain": [
       "array([[  1.98006328e+11,   3.72782461e+11]])"
      ]
     },
     "execution_count": 59,
     "metadata": {},
     "output_type": "execute_result"
    }
   ],
   "source": [
    "cum_dW.eval()\n"
   ]
  },
  {
   "cell_type": "code",
   "execution_count": 60,
   "metadata": {
    "collapsed": false
   },
   "outputs": [
    {
     "data": {
      "text/plain": [
       "array([[ -8.58856607e+08]])"
      ]
     },
     "execution_count": 60,
     "metadata": {},
     "output_type": "execute_result"
    }
   ],
   "source": [
    "cum_db.eval()"
   ]
  }
 ],
 "metadata": {
  "kernelspec": {
   "display_name": "Python 2",
   "language": "python",
   "name": "python2"
  },
  "language_info": {
   "codemirror_mode": {
    "name": "ipython",
    "version": 2
   },
   "file_extension": ".py",
   "mimetype": "text/x-python",
   "name": "python",
   "nbconvert_exporter": "python",
   "pygments_lexer": "ipython2",
   "version": "2.7.6"
  }
 },
 "nbformat": 4,
 "nbformat_minor": 0
}
