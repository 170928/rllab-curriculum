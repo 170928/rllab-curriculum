{
 "cells": [
  {
   "cell_type": "code",
   "execution_count": 1,
   "metadata": {
    "collapsed": true
   },
   "outputs": [],
   "source": [
    "%load_ext autoreload\n",
    "%autoreload 2\n",
    "import numpy as np\n",
    "import matplotlib.pyplot as plt\n",
    "%matplotlib inline"
   ]
  },
  {
   "cell_type": "markdown",
   "metadata": {},
   "source": [
    "# Value gradient method\n",
    "Here we use value gradients to solve simple control problems.\n",
    "$$\n",
    "\\begin{array}{ll}\n",
    "V_{\\theta}^t = r_a^t \\pi_{\\theta}^t + \\gamma V_s^{t+1} f_a^t \\pi_{\\theta}^t + \\gamma V_{\\theta}^{t+1} \\\\\n",
    "V_s^t = r_s^t + r_a^t \\pi_s^t+ \\gamma V_s^{t+1} (f_s^t + f_a^t \\pi_s^t)\n",
    "\\end{array}\n",
    "$$"
   ]
  },
  {
   "cell_type": "code",
   "execution_count": 2,
   "metadata": {
    "collapsed": false
   },
   "outputs": [],
   "source": [
    "def compute_policy_gradient(env,policy,path,gamma):\n",
    "    T = len(path[\"rewards\"])\n",
    "    n = len(path[\"observations\"][0])\n",
    "    D = len(policy.get_theta())\n",
    "    V_theta = np.zeros((T,D))\n",
    "    V_s = np.zeros((T,n))\n",
    "    \n",
    "    for t in range(T-2,-1,-1):\n",
    "        s = path[\"observations\"][t]\n",
    "        a = path[\"actions\"][t]\n",
    "        s2 = path[\"observations\"][t+1]\n",
    "        r_a = env.r_a(s,a)\n",
    "        r_s = env.r_s(s,a)\n",
    "        f_s = env.f_s(s,a)\n",
    "        f_a = env.f_a(s,a)\n",
    "        pi_theta = policy.pi_theta(s)\n",
    "        pi_s = policy.pi_s(s)\n",
    "        \n",
    "        V_s[t] = r_s + r_a.dot(pi_s) + gamma * V_s[t+1].dot(f_s + f_a.dot(pi_s))\n",
    "        V_theta[t] = r_a.dot(pi_theta) + gamma * V_s[t+1].dot(f_a.dot(pi_theta)) + gamma * V_theta[t+1]\n",
    "    return V_s,V_theta"
   ]
  },
  {
   "cell_type": "markdown",
   "metadata": {},
   "source": [
    "## Point MDP\n",
    "$$r(s,a) = -\\frac{1}{2}(\\|s+a\\|_2^2)$$\n",
    "$$r_s(s,a) = -(s+a),\\quad r_a(s,a) = -(s+a)$$\n",
    "$$f(s,a) = s + a $$\n",
    "$$f_s(s,a) = I_2,\\quad f_a(s,a) = I_2 $$\n",
    "Terminate when $$ \\|s\\|_2 < 0.01$$"
   ]
  },
  {
   "cell_type": "code",
   "execution_count": 3,
   "metadata": {
    "collapsed": false
   },
   "outputs": [],
   "source": [
    "class PointEnvLinearPolicy(object):\n",
    "    def __init__(self,dim=2):\n",
    "        self.state_dim = dim\n",
    "        self.G = np.random.normal(size=(dim,dim))\n",
    "    def get_action(self,state):\n",
    "        action = self.G.dot(state)\n",
    "        return action\n",
    "    \n",
    "    def get_theta(self):\n",
    "        return policy.G.reshape((-1,))\n",
    "    \n",
    "    def set_theta(self,value):\n",
    "        self.G = np.reshape(value,self.G.shape)\n",
    "    \n",
    "    def pi_theta(self,state):\n",
    "        n = self.state_dim\n",
    "        J = np.zeros((n, n**2))\n",
    "        for i in range(n):\n",
    "            J[i,i*n:(i+1)*n] = state\n",
    "        return J\n",
    "    \n",
    "    def pi_s(self,state):\n",
    "        return self.G"
   ]
  },
  {
   "cell_type": "code",
   "execution_count": 4,
   "metadata": {
    "collapsed": false
   },
   "outputs": [],
   "source": [
    "import lasagne.layers as L\n",
    "import lasagne.nonlinearities as NL\n",
    "import theano\n",
    "import theano.tensor as T\n",
    "from rllab.core.network import MLP\n",
    "from rllab.core.lasagne_powered import LasagnePowered\n",
    "from rllab.core.serializable import Serializable\n",
    "from rllab.misc import ext\n",
    "\n",
    "class DeterministicMLPPolicy(LasagnePowered,Serializable):\n",
    "    def __init__(\n",
    "            self,\n",
    "            env_spec,\n",
    "            hidden_sizes=[32,32],\n",
    "            hidden_nonlinearity=NL.tanh,\n",
    "        ):\n",
    "        # constrain the output actions by tanh and linear rescaling\n",
    "        act_bounds = env_spec.action_space.bounds\n",
    "        ll = np.array(act_bounds)[0]\n",
    "        uu = np.array(act_bounds)[1]\n",
    "        aa = (uu-ll)/2\n",
    "        bb = (uu+ll)/2\n",
    "        def output_constrain(x):\n",
    "            return T.tanh(x) * aa + bb\n",
    "        \n",
    "        # construct the network\n",
    "        obs_dim = env_spec.observation_space.flat_dim\n",
    "        act_dim = env_spec.action_space.flat_dim\n",
    "        network = MLP(\n",
    "            input_shape=(obs_dim,),\n",
    "            output_dim=act_dim,\n",
    "            hidden_sizes=hidden_sizes,\n",
    "            hidden_nonlinearity=hidden_nonlinearity,\n",
    "            output_nonlinearity=output_constrain,\n",
    "        )\n",
    "        l_out = network.output_layer\n",
    "        act_var = L.get_output(l_out).flatten()\n",
    "        obs_var = network.input_layer.input_var\n",
    "        \n",
    "        # output\n",
    "        LasagnePowered.__init__(self, [l_out])\n",
    "        self._get_action = ext.compile_function(\n",
    "            inputs=[obs_var],\n",
    "            outputs=act_var,\n",
    "        )\n",
    "        \n",
    "        # derivatives\n",
    "        theta = self.get_params()\n",
    "        flat_grads = []\n",
    "        for i in range(act_dim):\n",
    "            # grad w.r.t. NN params are grouped by layers; so need to flatten\n",
    "            grad = theano.grad(act_var[i], wrt=theta, disconnected_inputs='warn')\n",
    "            flat_grad = ext.flatten_tensor_variables(grad) \n",
    "            flat_grads.append(flat_grad)\n",
    "        jacobian_theta = T.stack(flat_grads)\n",
    "        self._pi_theta = ext.compile_function(\n",
    "            inputs=[obs_var],\n",
    "            outputs=jacobian_theta,\n",
    "        )\n",
    "        \n",
    "        flat_grads = []\n",
    "        for i in range(act_dim):\n",
    "            # beware of the final ravel()\n",
    "            grad = theano.grad(act_var[i], wrt=obs_var, disconnected_inputs='warn').ravel()\n",
    "            flat_grads.append(grad)\n",
    "        jacobian_s = T.stack(flat_grads)\n",
    "        self._pi_s = ext.compile_function(\n",
    "            inputs=[obs_var],\n",
    "            outputs=jacobian_s,\n",
    "        )\n",
    "        \n",
    "    def get_action(self,state):\n",
    "        agent_info = dict()\n",
    "        action = self._get_action([state])\n",
    "        return action, agent_info\n",
    "        \n",
    "    def get_theta(self):\n",
    "        return self.get_param_values()\n",
    "        \n",
    "    def set_theta(self,value):\n",
    "        self.set_param_values(value)\n",
    "        \n",
    "    def pi_theta(self,state):\n",
    "        return self._pi_theta([state])\n",
    "    \n",
    "    def pi_s(self,state):\n",
    "        return self._pi_s([state])\n",
    "    \n",
    "    def reset(self):\n",
    "        pass"
   ]
  },
  {
   "cell_type": "code",
   "execution_count": 5,
   "metadata": {
    "collapsed": true
   },
   "outputs": [],
   "source": [
    "from rllab.sampler.utils import rollout\n",
    "def train(env,policy,n_iter,horizon,lr,gamma):\n",
    "    paths = []\n",
    "    for i in range(n_iter):\n",
    "        # simulate\n",
    "        path = rollout(env,policy,horizon)\n",
    "        paths.append(path)\n",
    "        \n",
    "        # evaluate\n",
    "        print \"Iteration %d: total rewards: %.2f\"%(i,np.sum(path[\"rewards\"]))\n",
    "        \n",
    "        V_s,V_theta = compute_policy_gradient(env,policy,path,gamma)\n",
    "        grad = V_theta[0]\n",
    "        policy.set_theta(policy.get_theta() + lr * grad)\n",
    "    return paths"
   ]
  },
  {
   "cell_type": "code",
   "execution_count": 6,
   "metadata": {
    "collapsed": false
   },
   "outputs": [
    {
     "name": "stdout",
     "output_type": "stream",
     "text": [
      "Automatic pdb calling has been turned ON\n"
     ]
    }
   ],
   "source": [
    "%pdb on"
   ]
  },
  {
   "cell_type": "code",
   "execution_count": 7,
   "metadata": {
    "collapsed": false,
    "scrolled": true
   },
   "outputs": [
    {
     "name": "stdout",
     "output_type": "stream",
     "text": [
      "Iteration 0: total rewards: 13.05\n",
      "Iteration 1: total rewards: 117.99\n",
      "Iteration 2: total rewards: 91.82\n",
      "Iteration 3: total rewards: 36.10\n",
      "Iteration 4: total rewards: 17.52\n",
      "Iteration 5: total rewards: 13.14\n",
      "Iteration 6: total rewards: 10.74\n",
      "Iteration 7: total rewards: 9.34\n",
      "Iteration 8: total rewards: 8.47\n",
      "Iteration 9: total rewards: 7.90\n",
      "Iteration 10: total rewards: 7.51\n",
      "Iteration 11: total rewards: 7.23\n",
      "Iteration 12: total rewards: 7.01\n",
      "Iteration 13: total rewards: 6.85\n",
      "Iteration 14: total rewards: 6.71\n",
      "Iteration 15: total rewards: 6.61\n",
      "Iteration 16: total rewards: 6.52\n",
      "Iteration 17: total rewards: 6.45\n",
      "Iteration 18: total rewards: 6.39\n",
      "Iteration 19: total rewards: 6.34\n",
      "Iteration 20: total rewards: 6.29\n",
      "Iteration 21: total rewards: 6.25\n",
      "Iteration 22: total rewards: 6.22\n",
      "Iteration 23: total rewards: 6.19\n",
      "Iteration 24: total rewards: 6.17\n",
      "Iteration 25: total rewards: 6.14\n",
      "Iteration 26: total rewards: 6.12\n",
      "Iteration 27: total rewards: 6.10\n",
      "Iteration 28: total rewards: 6.09\n",
      "Iteration 29: total rewards: 6.07\n",
      "Iteration 30: total rewards: 6.06\n",
      "Iteration 31: total rewards: 6.04\n",
      "Iteration 32: total rewards: 6.03\n",
      "Iteration 33: total rewards: 6.02\n",
      "Iteration 34: total rewards: 6.01\n",
      "Iteration 35: total rewards: 6.00\n",
      "Iteration 36: total rewards: 5.97\n",
      "Iteration 37: total rewards: 6.00\n",
      "Iteration 38: total rewards: 5.95\n",
      "Iteration 39: total rewards: 5.99\n",
      "Iteration 40: total rewards: 5.93\n",
      "Iteration 41: total rewards: 5.98\n",
      "Iteration 42: total rewards: 5.96\n",
      "Iteration 43: total rewards: 5.92\n",
      "Iteration 44: total rewards: 5.96\n",
      "Iteration 45: total rewards: 5.91\n",
      "Iteration 46: total rewards: 5.90\n",
      "Iteration 47: total rewards: 5.96\n",
      "Iteration 48: total rewards: 5.94\n",
      "Iteration 49: total rewards: 5.90\n",
      "Iteration 50: total rewards: 5.89\n",
      "Iteration 51: total rewards: 5.88\n",
      "Iteration 52: total rewards: 5.95\n",
      "Iteration 53: total rewards: 5.88\n",
      "Iteration 54: total rewards: 5.87\n",
      "Iteration 55: total rewards: 5.94\n",
      "Iteration 56: total rewards: 5.87\n",
      "Iteration 57: total rewards: 5.86\n",
      "Iteration 58: total rewards: 5.93\n",
      "Iteration 59: total rewards: 5.86\n",
      "Iteration 60: total rewards: 5.86\n",
      "Iteration 61: total rewards: 5.92\n",
      "Iteration 62: total rewards: 5.86\n",
      "Iteration 63: total rewards: 5.85\n",
      "Iteration 64: total rewards: 5.91\n",
      "Iteration 65: total rewards: 5.85\n",
      "Iteration 66: total rewards: 5.85\n",
      "Iteration 67: total rewards: 5.90\n",
      "Iteration 68: total rewards: 5.85\n",
      "Iteration 69: total rewards: 5.84\n",
      "Iteration 70: total rewards: 5.90\n",
      "Iteration 71: total rewards: 5.84\n",
      "Iteration 72: total rewards: 5.84\n",
      "Iteration 73: total rewards: 5.83\n",
      "Iteration 74: total rewards: 5.83\n",
      "Iteration 75: total rewards: 5.83\n",
      "Iteration 76: total rewards: 5.82\n",
      "Iteration 77: total rewards: 5.82\n",
      "Iteration 78: total rewards: 5.95\n",
      "Iteration 79: total rewards: 5.82\n",
      "Iteration 80: total rewards: 5.82\n",
      "Iteration 81: total rewards: 5.82\n",
      "Iteration 82: total rewards: 5.82\n",
      "Iteration 83: total rewards: 5.93\n",
      "Iteration 84: total rewards: 5.82\n",
      "Iteration 85: total rewards: 5.82\n",
      "Iteration 86: total rewards: 5.81\n",
      "Iteration 87: total rewards: 5.81\n",
      "Iteration 88: total rewards: 5.81\n",
      "Iteration 89: total rewards: 5.92\n",
      "Iteration 90: total rewards: 5.81\n",
      "Iteration 91: total rewards: 5.81\n",
      "Iteration 92: total rewards: 5.81\n",
      "Iteration 93: total rewards: 5.81\n",
      "Iteration 94: total rewards: 5.80\n",
      "Iteration 95: total rewards: 5.92\n",
      "Iteration 96: total rewards: 5.81\n",
      "Iteration 97: total rewards: 5.81\n",
      "Iteration 98: total rewards: 5.80\n",
      "Iteration 99: total rewards: 5.80\n"
     ]
    }
   ],
   "source": [
    "from examples.point_env import PointEnv\n",
    "env = PointEnv()\n",
    "policy = DeterministicMLPPolicy(env)\n",
    "policy.get_params(trainable=True)\n",
    "n_iter = 100\n",
    "horizon = 100\n",
    "lr = 0.01\n",
    "gamma = 0.99\n",
    "paths = train(env,policy,n_iter,horizon,lr,gamma)"
   ]
  },
  {
   "cell_type": "code",
   "execution_count": 8,
   "metadata": {
    "collapsed": false
   },
   "outputs": [
    {
     "data": {
      "text/plain": [
       "<matplotlib.legend.Legend at 0x116b1b9d0>"
      ]
     },
     "execution_count": 8,
     "metadata": {},
     "output_type": "execute_result"
    },
    {
     "data": {
      "image/png": "[encoded data removed]",
      "text/plain": [
       "<matplotlib.figure.Figure at 0x107f82e10>"
      ]
     },
     "metadata": {},
     "output_type": "display_data"
    }
   ],
   "source": [
    "initial = env.plot(paths[0])\n",
    "final = env.plot(paths[-1])\n",
    "plt.legend(['initial','final'])"
   ]
  },
  {
   "cell_type": "code",
   "execution_count": null,
   "metadata": {
    "collapsed": true
   },
   "outputs": [],
   "source": []
  },
  {
   "cell_type": "markdown",
   "metadata": {
    "collapsed": true
   },
   "source": [
    "## Testing code"
   ]
  },
  {
   "cell_type": "code",
   "execution_count": 77,
   "metadata": {
    "collapsed": true
   },
   "outputs": [],
   "source": [
    "from sandbox.haoran.model_trpo.code.deterministic_mlp_policy import DeterministicMLPPolicy\n",
    "from sandbox.haoran.model_trpo.code.hopper_env import HopperEnv\n",
    "env = HopperEnv()\n",
    "policy = DeterministicMLPPolicy(env,hidden_sizes=[32,32])"
   ]
  },
  {
   "cell_type": "code",
   "execution_count": 81,
   "metadata": {
    "collapsed": false
   },
   "outputs": [
    {
     "name": "stdout",
     "output_type": "stream",
     "text": [
      "[(20, 32), (32,), (32, 32), (32,), (32, 3), (3,)]\n"
     ]
    }
   ],
   "source": [
    "import lasagne.layers as L\n",
    "params = L.get_all_param_values(policy.network.output_layer,trainable=True)\n",
    "print [p.shape for p in params]"
   ]
  },
  {
   "cell_type": "code",
   "execution_count": 83,
   "metadata": {
    "collapsed": false
   },
   "outputs": [
    {
     "ename": "AttributeError",
     "evalue": "'DenseLayer' object has no attribute 'type'",
     "output_type": "error",
     "traceback": [
      "\u001b[0;31m---------------------------------------------------------------------------\u001b[0m",
      "\u001b[0;31mAttributeError\u001b[0m                            Traceback (most recent call last)",
      "\u001b[0;32m<ipython-input-83-d46383ad3ec1>\u001b[0m in \u001b[0;36m<module>\u001b[0;34m()\u001b[0m\n\u001b[1;32m      1\u001b[0m \u001b[0;32mimport\u001b[0m \u001b[0mtheano\u001b[0m\u001b[0;34m\u001b[0m\u001b[0m\n\u001b[0;32m----> 2\u001b[0;31m \u001b[0mtheano\u001b[0m\u001b[0;34m.\u001b[0m\u001b[0mgrad\u001b[0m\u001b[0;34m(\u001b[0m\u001b[0mpolicy\u001b[0m\u001b[0;34m.\u001b[0m\u001b[0mnetwork\u001b[0m\u001b[0;34m.\u001b[0m\u001b[0moutput_layer\u001b[0m\u001b[0;34m,\u001b[0m\u001b[0mpolicy\u001b[0m\u001b[0;34m.\u001b[0m\u001b[0mget_params\u001b[0m\u001b[0;34m(\u001b[0m\u001b[0mtrainable\u001b[0m\u001b[0;34m=\u001b[0m\u001b[0mTrue\u001b[0m\u001b[0;34m)\u001b[0m\u001b[0;34m)\u001b[0m\u001b[0;34m\u001b[0m\u001b[0m\n\u001b[0m",
      "\u001b[0;32m/Users/haoran/.local/lib/python2.7/site-packages/theano/gradient.pyc\u001b[0m in \u001b[0;36mgrad\u001b[0;34m(cost, wrt, consider_constant, disconnected_inputs, add_names, known_grads, return_disconnected, null_gradients)\u001b[0m\n\u001b[1;32m    428\u001b[0m             \u001b[0;32mraise\u001b[0m \u001b[0mAssertionError\u001b[0m\u001b[0;34m(\u001b[0m\u001b[0;34m\"cost and known_grads can't both be None.\"\u001b[0m\u001b[0;34m)\u001b[0m\u001b[0;34m\u001b[0m\u001b[0m\n\u001b[1;32m    429\u001b[0m \u001b[0;34m\u001b[0m\u001b[0m\n\u001b[0;32m--> 430\u001b[0;31m     \u001b[0;32mif\u001b[0m \u001b[0mcost\u001b[0m \u001b[0;32mis\u001b[0m \u001b[0;32mnot\u001b[0m \u001b[0mNone\u001b[0m \u001b[0;32mand\u001b[0m \u001b[0misinstance\u001b[0m\u001b[0;34m(\u001b[0m\u001b[0mcost\u001b[0m\u001b[0;34m.\u001b[0m\u001b[0mtype\u001b[0m\u001b[0;34m,\u001b[0m \u001b[0mNullType\u001b[0m\u001b[0;34m)\u001b[0m\u001b[0;34m:\u001b[0m\u001b[0;34m\u001b[0m\u001b[0m\n\u001b[0m\u001b[1;32m    431\u001b[0m         raise ValueError(\"Can't differentiate a NaN cost.\"\n\u001b[1;32m    432\u001b[0m                          \u001b[0;34m\"cost is NaN because \"\u001b[0m \u001b[0;34m+\u001b[0m\u001b[0;34m\u001b[0m\u001b[0m\n",
      "\u001b[0;31mAttributeError\u001b[0m: 'DenseLayer' object has no attribute 'type'"
     ]
    },
    {
     "name": "stdout",
     "output_type": "stream",
     "text": [
      "> \u001b[0;32m/Users/haoran/.local/lib/python2.7/site-packages/theano/gradient.py\u001b[0m(430)\u001b[0;36mgrad\u001b[0;34m()\u001b[0m\n",
      "\u001b[0;32m    428 \u001b[0;31m            \u001b[0;32mraise\u001b[0m \u001b[0mAssertionError\u001b[0m\u001b[0;34m(\u001b[0m\u001b[0;34m\"cost and known_grads can't both be None.\"\u001b[0m\u001b[0;34m)\u001b[0m\u001b[0;34m\u001b[0m\u001b[0m\n",
      "\u001b[0m\u001b[0;32m    429 \u001b[0;31m\u001b[0;34m\u001b[0m\u001b[0m\n",
      "\u001b[0m\u001b[0;32m--> 430 \u001b[0;31m    \u001b[0;32mif\u001b[0m \u001b[0mcost\u001b[0m \u001b[0;32mis\u001b[0m \u001b[0;32mnot\u001b[0m \u001b[0mNone\u001b[0m \u001b[0;32mand\u001b[0m \u001b[0misinstance\u001b[0m\u001b[0;34m(\u001b[0m\u001b[0mcost\u001b[0m\u001b[0;34m.\u001b[0m\u001b[0mtype\u001b[0m\u001b[0;34m,\u001b[0m \u001b[0mNullType\u001b[0m\u001b[0;34m)\u001b[0m\u001b[0;34m:\u001b[0m\u001b[0;34m\u001b[0m\u001b[0m\n",
      "\u001b[0m\u001b[0;32m    431 \u001b[0;31m        raise ValueError(\"Can't differentiate a NaN cost.\"\n",
      "\u001b[0m\u001b[0;32m    432 \u001b[0;31m                         \u001b[0;34m\"cost is NaN because \"\u001b[0m \u001b[0;34m+\u001b[0m\u001b[0;34m\u001b[0m\u001b[0m\n",
      "\u001b[0m\n",
      "\u0001\u0002ipdb> \u0001\u0002q\n"
     ]
    }
   ],
   "source": [
    "import theano\n",
    "theano.grad(policy.network.output_layer,policy.get_params(trainable=True))"
   ]
  },
  {
   "cell_type": "code",
   "execution_count": null,
   "metadata": {
    "collapsed": true
   },
   "outputs": [],
   "source": []
  }
 ],
 "metadata": {
  "kernelspec": {
   "display_name": "Python 2",
   "language": "python",
   "name": "python2"
  },
  "language_info": {
   "codemirror_mode": {
    "name": "ipython",
    "version": 2
   },
   "file_extension": ".py",
   "mimetype": "text/x-python",
   "name": "python",
   "nbconvert_exporter": "python",
   "pygments_lexer": "ipython2",
   "version": "2.7.10"
  },
  "widgets": {
   "state": {},
   "version": "1.1.2"
  }
 },
 "nbformat": 4,
 "nbformat_minor": 0
}
