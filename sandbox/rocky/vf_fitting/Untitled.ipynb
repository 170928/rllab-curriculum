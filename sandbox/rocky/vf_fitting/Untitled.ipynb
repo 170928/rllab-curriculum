{
 "cells": [
  {
   "cell_type": "code",
   "execution_count": 12,
   "metadata": {
    "collapsed": true
   },
   "outputs": [],
   "source": [
    "import sys\n",
    "sys.path.append(\"../..\")\n",
    "import numpy as np\n",
    "import joblib\n",
    "data = joblib.load(\"../../../persist_data/atari_vf_fit.pkl\")"
   ]
  },
  {
   "cell_type": "code",
   "execution_count": 15,
   "metadata": {
    "collapsed": false
   },
   "outputs": [],
   "source": [
    "policy = data[\"policy\"]\n",
    "mdp = data[\"mdp\"]\n",
    "paths = data[\"paths\"]"
   ]
  },
  {
   "cell_type": "code",
   "execution_count": 20,
   "metadata": {
    "collapsed": false
   },
   "outputs": [],
   "source": [
    "n_train_paths = int(len(paths) * 0.7)\n",
    "n_test_paths = len(paths) - n_train_paths\n",
    "\n",
    "train_paths = paths[:n_train_paths]\n",
    "test_paths = paths[n_train_paths:]\n",
    "\n",
    "train_xs = np.concatenate([p[\"observations\"] for p in train_paths])\n",
    "train_ys = np.concatenate([p[\"returns\"] for p in train_paths])\n",
    "test_xs = np.concatenate([p[\"observations\"] for p in test_paths])\n",
    "test_ys = np.concatenate([p[\"returns\"] for p in test_paths])"
   ]
  },
  {
   "cell_type": "code",
   "execution_count": 19,
   "metadata": {
    "collapsed": false
   },
   "outputs": [
    {
     "name": "stdout",
     "output_type": "stream",
     "text": [
      "9.32287\n"
     ]
    }
   ],
   "source": [
    "from rllab.baseline.gaussian_mlp_baseline import GaussianMLPBaseline\n",
    "from rllab.misc.ext import AttrDict\n",
    "from rllab.optimizer.penalty_lbfgs_optimizer import PenaltyLbfgsOptimizer\n",
    "\n",
    "# Fix the initial baseline parameters\n",
    "baseline = GaussianMLPBaseline(\n",
    "    mdp,\n",
    ")\n",
    "init_params = baseline.get_param_values()\n",
    "print np.linalg.norm(init_params)"
   ]
  },
  {
   "cell_type": "code",
   "execution_count": null,
   "metadata": {
    "collapsed": false
   },
   "outputs": [
    {
     "name": "stdout",
     "output_type": "stream",
     "text": [
      "2016-03-10 22:25:40.000414 PST | trying penalty=1.000...\n",
      "2016-03-10 22:25:42.201615 PST | penalty 1.000000 => loss 1.615370, constraint 0.379543\n",
      "2016-03-10 22:25:42.202127 PST | trying penalty=2.000...\n",
      "2016-03-10 22:25:44.422307 PST | penalty 2.000000 => loss 1.861606, constraint 0.203668\n",
      "2016-03-10 22:25:44.422833 PST | trying penalty=4.000...\n",
      "2016-03-10 22:25:46.593398 PST | penalty 4.000000 => loss 2.155850, constraint 0.099573\n",
      "2016-03-10 22:25:46.593926 PST | trying penalty=8.000...\n",
      "2016-03-10 22:25:48.701308 PST | penalty 8.000000 => loss 2.480824, constraint 0.041323\n",
      "2016-03-10 22:25:48.701820 PST | trying penalty=16.000...\n",
      "2016-03-10 22:25:51.017007 PST | penalty 16.000000 => loss 2.774517, constraint 0.014566\n",
      "2016-03-10 22:25:51.017529 PST | trying penalty=32.000...\n",
      "2016-03-10 22:25:53.150825 PST | penalty 32.000000 => loss 2.994522, constraint 0.004405\n"
     ]
    }
   ],
   "source": [
    "# Let's inspect training loss first\n",
    "baseline = GaussianMLPBaseline(\n",
    "    mdp,\n",
    "    use_trust_region=False\n",
    ")\n",
    "baseline.set_param_values(init_params)\n",
    "baseline.fit(train_paths)\n",
    "baseline._regressor.predict_log_likelihood(train_xs, train_ys).shape"
   ]
  },
  {
   "cell_type": "code",
   "execution_count": null,
   "metadata": {
    "collapsed": true
   },
   "outputs": [],
   "source": []
  }
 ],
 "metadata": {
  "kernelspec": {
   "display_name": "Python 2",
   "language": "python",
   "name": "python2"
  },
  "language_info": {
   "codemirror_mode": {
    "name": "ipython",
    "version": 2
   },
   "file_extension": ".py",
   "mimetype": "text/x-python",
   "name": "python",
   "nbconvert_exporter": "python",
   "pygments_lexer": "ipython2",
   "version": "2.7.10"
  }
 },
 "nbformat": 4,
 "nbformat_minor": 0
}
