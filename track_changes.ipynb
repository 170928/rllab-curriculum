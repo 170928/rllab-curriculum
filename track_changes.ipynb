{
 "cells": [
  {
   "cell_type": "markdown",
   "metadata": {},
   "source": [
    "# Stochastic Policy Implementation.\n",
    "\n",
    "## Plan the changes\n",
    "\n",
    "I will try not to modify the env and concentrate all the changes in the policy and in the algorithm. There are 2 major changes to execute:\n",
    "- Inside the policy (`s_mlp_policy.py`): change the policy representation to accomodate the new latent inputs/units. Then change the step method so that it also samples from latents and return the observed latent.\n",
    "- In the algorithm (`npo_snn.py`): declare `latent_var`, change the `surr_obj` and `logli`. The first and last thing will also be included in the previous class.\n",
    "In the future the latent variables distribution will also depend on the parameters and the observations. This again will need a change in the `surr_obj`.\n",
    "\n"
   ]
  },
  {
   "cell_type": "markdown",
   "metadata": {},
   "source": [
    "## Changes executed\n",
    "In the algorithm file:\n",
    "1. a) Declare the symbolic latent var :"
   ]
  },
  {
   "cell_type": "code",
   "execution_count": null,
   "metadata": {
    "collapsed": true
   },
   "outputs": [],
   "source": [
    "latent_var = self.policy.latent_space.new_tensor_variable(\n",
    "    'latent',\n",
    "    extra_dims=1 + is_recurrent,\n",
    ")"
   ]
  },
  {
   "cell_type": "markdown",
   "metadata": {},
   "source": [
    "1. b) define the method in policy (see it's not in env, which is not supposed to know about latents)"
   ]
  },
  {
   "cell_type": "code",
   "execution_count": null,
   "metadata": {
    "collapsed": true
   },
   "outputs": [],
   "source": []
  }
 ],
 "metadata": {
  "kernelspec": {
   "display_name": "Python 2",
   "language": "python",
   "name": "python2"
  },
  "language_info": {
   "codemirror_mode": {
    "name": "ipython",
    "version": 2
   },
   "file_extension": ".py",
   "mimetype": "text/x-python",
   "name": "python",
   "nbconvert_exporter": "python",
   "pygments_lexer": "ipython2",
   "version": "2.7.11"
  }
 },
 "nbformat": 4,
 "nbformat_minor": 0
}
