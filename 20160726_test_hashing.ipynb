{
 "cells": [
  {
   "cell_type": "code",
   "execution_count": 27,
   "metadata": {
    "collapsed": false
   },
   "outputs": [
    {
     "name": "stdout",
     "output_type": "stream",
     "text": [
      "The autoreload extension is already loaded. To reload it, use:\n",
      "  %reload_ext autoreload\n"
     ]
    }
   ],
   "source": [
    "%load_ext autoreload\n",
    "%autoreload 2\n",
    "\n",
    "import numpy as np"
   ]
  },
  {
   "cell_type": "code",
   "execution_count": 42,
   "metadata": {
    "collapsed": false
   },
   "outputs": [],
   "source": [
    "from sandbox.haoran.hashing.bonus_evaluators.hashing_bonus_evaluator import HashingBonusEvaluator\n",
    "from rllab.envs.box2d.car_parking_env import CarParkingEnv\n",
    "\n",
    "env = CarParkingEnv()\n",
    "hashing = HashingBonusEvaluator(env.spec,dim_key=10,bucket_sizes=None)"
   ]
  },
  {
   "cell_type": "code",
   "execution_count": 43,
   "metadata": {
    "collapsed": false
   },
   "outputs": [
    {
     "data": {
      "text/plain": [
       "array([743, 743, 743, 743, 743, 743])"
      ]
     },
     "execution_count": 43,
     "metadata": {},
     "output_type": "execute_result"
    }
   ],
   "source": [
    "hashing.compute_keys(env.get_current_obs())"
   ]
  },
  {
   "cell_type": "code",
   "execution_count": 47,
   "metadata": {
    "collapsed": false
   },
   "outputs": [
    {
     "name": "stdout",
     "output_type": "stream",
     "text": [
      "[ 0.1  0.2 -0.5  0.3  0.5]\n",
      "[140 153  63 165 191]\n",
      "[ 1.  1. -1. -1.  1.  1.  1. -1.  1.  1.]\n",
      "[743 743 743 743 743 743]\n"
     ]
    }
   ],
   "source": [
    "obs = np.asarray([0.1,0.2,-0.5,0.3,0.5])\n",
    "print obs\n",
    "obs = np.cast['int']((obs + 1) * 0.5 * 255.0)\n",
    "print obs\n",
    "binaries = np.sign(np.asarray(observations).dot(hashing.projection_matrix))\n",
    "print binaries\n",
    "keys = np.cast['int'](binaries.dot(hashing.mods_list)) % hashing.bucket_sizes\n",
    "print keys"
   ]
  },
  {
   "cell_type": "code",
   "execution_count": 51,
   "metadata": {
    "collapsed": false
   },
   "outputs": [
    {
     "data": {
      "text/plain": [
       "array([ 1766.,  1766.,  1766.,  1766.,  1766.,  1766.])"
      ]
     },
     "execution_count": 51,
     "metadata": {},
     "output_type": "execute_result"
    }
   ],
   "source": [
    "(binaries+1).dot(hashing.mods_list)"
   ]
  },
  {
   "cell_type": "code",
   "execution_count": null,
   "metadata": {
    "collapsed": true
   },
   "outputs": [],
   "source": []
  }
 ],
 "metadata": {
  "kernelspec": {
   "display_name": "Python 2",
   "language": "python",
   "name": "python2"
  },
  "language_info": {
   "codemirror_mode": {
    "name": "ipython",
    "version": 2
   },
   "file_extension": ".py",
   "mimetype": "text/x-python",
   "name": "python",
   "nbconvert_exporter": "python",
   "pygments_lexer": "ipython2",
   "version": "2.7.11"
  }
 },
 "nbformat": 4,
 "nbformat_minor": 0
}
