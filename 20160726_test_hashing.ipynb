{
 "cells": [
  {
   "cell_type": "code",
   "execution_count": 120,
   "metadata": {
    "collapsed": false
   },
   "outputs": [
    {
     "name": "stdout",
     "output_type": "stream",
     "text": [
      "The autoreload extension is already loaded. To reload it, use:\n",
      "  %reload_ext autoreload\n"
     ]
    }
   ],
   "source": [
    "%load_ext autoreload\n",
    "%autoreload 2\n",
    "\n",
    "import numpy as np"
   ]
  },
  {
   "cell_type": "markdown",
   "metadata": {},
   "source": [
    "#### Test SimHash"
   ]
  },
  {
   "cell_type": "code",
   "execution_count": 121,
   "metadata": {
    "collapsed": false
   },
   "outputs": [
    {
     "data": {
      "text/plain": [
       "array([ 10.,  10.])"
      ]
     },
     "execution_count": 121,
     "metadata": {},
     "output_type": "execute_result"
    }
   ],
   "source": [
    "from sandbox.haoran.hashing.hash.sim_hash import SimHash\n",
    "hash = SimHash(10,dim_key=128,bucket_sizes=[101,113])\n",
    "items = np.random.normal(size=(2,10))\n",
    "for i in xrange(10):\n",
    "    hash.inc_hash(items)\n",
    "hash.query_hash(items)"
   ]
  },
  {
   "cell_type": "markdown",
   "metadata": {},
   "source": [
    "### Test bonus evaluator"
   ]
  },
  {
   "cell_type": "code",
   "execution_count": 122,
   "metadata": {
    "collapsed": true
   },
   "outputs": [],
   "source": [
    "prev_id = 0"
   ]
  },
  {
   "cell_type": "code",
   "execution_count": 130,
   "metadata": {
    "collapsed": false,
    "scrolled": true
   },
   "outputs": [
    {
     "name": "stdout",
     "output_type": "stream",
     "text": [
      "[6, 6]\n",
      "[ 0.16666667  0.16666667]\n",
      "True\n"
     ]
    }
   ],
   "source": [
    "from sandbox.haoran.hashing.bonus_evaluators.ale_hashing_bonus_evaluator import ALEHashingBonusEvaluator\n",
    "ev = ALEHashingBonusEvaluator(\n",
    "    state_dim=10,\n",
    "    img_preprocessor=None,\n",
    "    num_actions=4,\n",
    "    count_mode=\"sa\",\n",
    "    bonus_mode=\"s\",\n",
    ")\n",
    "# states = np.random.normal(size=(2,10))\n",
    "states = np.vstack([np.ones(10),np.ones(10)*2])\n",
    "actions = np.asarray([0,1])\n",
    "ev.update(states,actions)\n",
    "print ev.count(states,actions)\n",
    "print ev.evaluate(states,actions,None)\n",
    "\n",
    "cur_id = id(ev.hash_list[0].tables)\n",
    "print  cur_id == prev_id\n",
    "prev_id = cur_id"
   ]
  },
  {
   "cell_type": "code",
   "execution_count": 134,
   "metadata": {
    "collapsed": false
   },
   "outputs": [
    {
     "name": "stdout",
     "output_type": "stream",
     "text": [
      "state_dim\n",
      "epoch_bonus_list\n",
      "bonus_mode\n",
      "state_bonus_mode\n",
      "hash_list\n",
      "count_mode\n",
      "bonus_coeff\n",
      "num_actions\n",
      "state_action_bonus_mode\n",
      "img_preprocessor\n",
      "epoch_hash_count_list\n"
     ]
    }
   ],
   "source": [
    "for k,v in ev.__dict__.iteritems():\n",
    "    print k"
   ]
  },
  {
   "cell_type": "code",
   "execution_count": 118,
   "metadata": {
    "collapsed": false
   },
   "outputs": [
    {
     "name": "stdout",
     "output_type": "stream",
     "text": [
      "[ 2.  3.]\n",
      "[ 1.  2.]\n"
     ]
    }
   ],
   "source": [
    "class modify():\n",
    "    def __init__(self,x):\n",
    "        x = x + 1.\n",
    "        print x\n",
    "        \n",
    "x = np.asarray([1.,2.])\n",
    "m = modify(x)\n",
    "print x"
   ]
  },
  {
   "cell_type": "code",
   "execution_count": 51,
   "metadata": {
    "collapsed": false
   },
   "outputs": [
    {
     "data": {
      "text/plain": [
       "array([ 1766.,  1766.,  1766.,  1766.,  1766.,  1766.])"
      ]
     },
     "execution_count": 51,
     "metadata": {},
     "output_type": "execute_result"
    }
   ],
   "source": [
    "(binaries+1).dot(hashing.mods_list)"
   ]
  },
  {
   "cell_type": "code",
   "execution_count": null,
   "metadata": {
    "collapsed": true
   },
   "outputs": [],
   "source": []
  },
  {
   "cell_type": "markdown",
   "metadata": {},
   "source": [
    "#### Pickle part of the attributes"
   ]
  },
  {
   "cell_type": "code",
   "execution_count": 140,
   "metadata": {
    "collapsed": false
   },
   "outputs": [
    {
     "name": "stdout",
     "output_type": "stream",
     "text": [
      "['__class__', '__delattr__', '__dict__', '__doc__', '__format__', '__getattribute__', '__getstate__', '__hash__', '__init__', '__module__', '__new__', '__reduce__', '__reduce_ex__', '__repr__', '__setattr__', '__sizeof__', '__str__', '__subclasshook__', '__weakref__', 'x']\n"
     ]
    }
   ],
   "source": [
    "import joblib\n",
    "class something(object):\n",
    "    def __init__(self,x,y):\n",
    "        self.x = x\n",
    "        self.y = y\n",
    "    \n",
    "    def __getstate__(self):\n",
    "        return dict((k, v) \n",
    "                    for (k, v) in self.__dict__.iteritems() \n",
    "                    if k in [\"x\"]\n",
    "                )\n",
    "s = something(1,2)\n",
    "joblib.dump(s,\"s.pkl\",compress=3)\n",
    "s2 = joblib.load(\"s.pkl\")\n",
    "print dir(s2)"
   ]
  },
  {
   "cell_type": "markdown",
   "metadata": {},
   "source": [
    "#### Load iteration parameters"
   ]
  },
  {
   "cell_type": "code",
   "execution_count": 146,
   "metadata": {
    "collapsed": false
   },
   "outputs": [],
   "source": [
    "log_dir = \"data/local/hashing-test/hashing-test_2016_07_27_22_43_13_0001\"\n",
    "itr = 1\n",
    "import joblib\n",
    "params = joblib.load(\"%s/itr_%d.pkl\"%(log_dir,itr))"
   ]
  },
  {
   "cell_type": "code",
   "execution_count": 148,
   "metadata": {
    "collapsed": false
   },
   "outputs": [
    {
     "ename": "AttributeError",
     "evalue": "'list' object has no attribute 'shape'",
     "output_type": "error",
     "traceback": [
      "\u001b[0;31m---------------------------------------------------------------------------\u001b[0m",
      "\u001b[0;31mAttributeError\u001b[0m                            Traceback (most recent call last)",
      "\u001b[0;32m<ipython-input-148-9958fc8201c1>\u001b[0m in \u001b[0;36m<module>\u001b[0;34m()\u001b[0m\n\u001b[0;32m----> 1\u001b[0;31m \u001b[0mparams\u001b[0m\u001b[0;34m[\u001b[0m\u001b[0;34m\"agent\"\u001b[0m\u001b[0;34m]\u001b[0m\u001b[0;34m.\u001b[0m\u001b[0mnetwork\u001b[0m\u001b[0;34m.\u001b[0m\u001b[0mget_param_values\u001b[0m\u001b[0;34m(\u001b[0m\u001b[0;34m)\u001b[0m\u001b[0;34m.\u001b[0m\u001b[0mshape\u001b[0m\u001b[0;34m\u001b[0m\u001b[0m\n\u001b[0m",
      "\u001b[0;31mAttributeError\u001b[0m: 'list' object has no attribute 'shape'"
     ]
    },
    {
     "name": "stdout",
     "output_type": "stream",
     "text": [
      "> \u001b[0;32m<ipython-input-148-9958fc8201c1>\u001b[0m(1)\u001b[0;36m<module>\u001b[0;34m()\u001b[0m\n",
      "\u001b[0;32m----> 1 \u001b[0;31m\u001b[0mparams\u001b[0m\u001b[0;34m[\u001b[0m\u001b[0;34m\"agent\"\u001b[0m\u001b[0;34m]\u001b[0m\u001b[0;34m.\u001b[0m\u001b[0mnetwork\u001b[0m\u001b[0;34m.\u001b[0m\u001b[0mget_param_values\u001b[0m\u001b[0;34m(\u001b[0m\u001b[0;34m)\u001b[0m\u001b[0;34m.\u001b[0m\u001b[0mshape\u001b[0m\u001b[0;34m\u001b[0m\u001b[0m\n",
      "\u001b[0m\n",
      "\u0001\u0002ipdb> \u0001\u0002q\n"
     ]
    }
   ],
   "source": [
    "params[\"agent\"].network.get_param_values()"
   ]
  },
  {
   "cell_type": "code",
   "execution_count": 152,
   "metadata": {
    "collapsed": false
   },
   "outputs": [
    {
     "data": {
      "text/plain": [
       "3504.0"
      ]
     },
     "execution_count": 152,
     "metadata": {},
     "output_type": "execute_result"
    }
   ],
   "source": [
    "np.sum(params[\"agent\"].bonus_evaluator.hash_list[0].tables)"
   ]
  },
  {
   "cell_type": "code",
   "execution_count": 154,
   "metadata": {
    "collapsed": false
   },
   "outputs": [
    {
     "data": {
      "text/plain": [
       "['__class__',\n",
       " '__delattr__',\n",
       " '__dict__',\n",
       " '__doc__',\n",
       " '__format__',\n",
       " '__getattribute__',\n",
       " '__getstate__',\n",
       " '__hash__',\n",
       " '__init__',\n",
       " '__module__',\n",
       " '__new__',\n",
       " '__reduce__',\n",
       " '__reduce_ex__',\n",
       " '__repr__',\n",
       " '__setattr__',\n",
       " '__sizeof__',\n",
       " '__str__',\n",
       " '__subclasshook__',\n",
       " '__weakref__',\n",
       " '_choose_action',\n",
       " '_do_training',\n",
       " '_open_learning_file',\n",
       " '_open_results_file',\n",
       " '_show_phis',\n",
       " '_update_learning_file',\n",
       " '_update_results_file',\n",
       " 'batch_counter',\n",
       " 'best_epoch_reward',\n",
       " 'bonus_evaluator',\n",
       " 'cleanup',\n",
       " 'clip_reward',\n",
       " 'end_episode',\n",
       " 'episode_counter',\n",
       " 'episode_reward',\n",
       " 'epsilon',\n",
       " 'epsilon_decay',\n",
       " 'epsilon_min',\n",
       " 'epsilon_rate',\n",
       " 'epsilon_start',\n",
       " 'exp_dir',\n",
       " 'finish_epoch',\n",
       " 'finish_testing',\n",
       " 'holdout_data',\n",
       " 'image_height',\n",
       " 'image_width',\n",
       " 'last_action',\n",
       " 'last_img',\n",
       " 'learning_file',\n",
       " 'loss_averages',\n",
       " 'network',\n",
       " 'num_actions',\n",
       " 'phi_length',\n",
       " 'record_parameters',\n",
       " 'recording',\n",
       " 'replay_memory_size',\n",
       " 'replay_start_size',\n",
       " 'results_file',\n",
       " 'rng',\n",
       " 'start_episode',\n",
       " 'start_testing',\n",
       " 'start_time',\n",
       " 'step',\n",
       " 'step_counter',\n",
       " 'testing',\n",
       " 'total_reward',\n",
       " 'unpicklable_list',\n",
       " 'update_frequency']"
      ]
     },
     "execution_count": 154,
     "metadata": {},
     "output_type": "execute_result"
    }
   ],
   "source": [
    "dir(params[\"agent\"])"
   ]
  },
  {
   "cell_type": "code",
   "execution_count": null,
   "metadata": {
    "collapsed": true
   },
   "outputs": [],
   "source": []
  }
 ],
 "metadata": {
  "kernelspec": {
   "display_name": "Python 2",
   "language": "python",
   "name": "python2"
  },
  "language_info": {
   "codemirror_mode": {
    "name": "ipython",
    "version": 2
   },
   "file_extension": ".py",
   "mimetype": "text/x-python",
   "name": "python",
   "nbconvert_exporter": "python",
   "pygments_lexer": "ipython2",
   "version": "2.7.10"
  },
  "widgets": {
   "state": {},
   "version": "1.1.2"
  }
 },
 "nbformat": 4,
 "nbformat_minor": 0
}
