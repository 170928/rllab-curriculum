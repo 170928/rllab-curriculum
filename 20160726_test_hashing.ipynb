{
 "cells": [
  {
   "cell_type": "code",
   "execution_count": 2,
   "metadata": {
    "collapsed": false
   },
   "outputs": [],
   "source": [
    "%load_ext autoreload\n",
    "%autoreload 2\n",
    "\n",
    "import numpy as np"
   ]
  },
  {
   "cell_type": "markdown",
   "metadata": {},
   "source": [
    "#### Test SimHash"
   ]
  },
  {
   "cell_type": "code",
   "execution_count": 3,
   "metadata": {
    "collapsed": false
   },
   "outputs": [
    {
     "data": {
      "text/plain": [
       "array([ 10.,  10.])"
      ]
     },
     "execution_count": 3,
     "metadata": {},
     "output_type": "execute_result"
    }
   ],
   "source": [
    "from sandbox.haoran.hashing.hash.sim_hash import SimHash\n",
    "hash = SimHash(10,dim_key=128,bucket_sizes=[101,113])\n",
    "items = np.random.normal(size=(2,10))\n",
    "for i in xrange(10):\n",
    "    hash.inc_hash(items)\n",
    "hash.query_hash(items)"
   ]
  },
  {
   "cell_type": "markdown",
   "metadata": {},
   "source": [
    "### Test bonus evaluator"
   ]
  },
  {
   "cell_type": "code",
   "execution_count": 81,
   "metadata": {
    "collapsed": true
   },
   "outputs": [],
   "source": [
    "prev_id = 0"
   ]
  },
  {
   "cell_type": "code",
   "execution_count": 101,
   "metadata": {
    "collapsed": false
   },
   "outputs": [
    {
     "name": "stdout",
     "output_type": "stream",
     "text": [
      "[1, 1]\n",
      "[ 1.  1.]\n",
      "False\n"
     ]
    }
   ],
   "source": [
    "from sandbox.haoran.hashing.bonus_evaluators.ale_hashing_bonus_evaluator import ALEHashingBonusEvaluator\n",
    "ev = ALEHashingBonusEvaluator(\n",
    "    state_dim=10,\n",
    "    num_actions=4,\n",
    "    count_mode=\"sa\",\n",
    "    bonus_mode=\"s\",\n",
    ")\n",
    "# states = np.random.normal(size=(2,10))\n",
    "states = np.vstack([np.ones(10),np.ones(10)*2])\n",
    "actions = np.asarray([0,1])\n",
    "ev.update(states,actions)\n",
    "print ev.count(states,actions)\n",
    "print ev.evaluate(states,actions,None)\n",
    "\n",
    "cur_id = id(ev.hash_list[0].tables)\n",
    "print  cur_id == prev_id\n",
    "prev_id = cur_id"
   ]
  },
  {
   "cell_type": "code",
   "execution_count": 118,
   "metadata": {
    "collapsed": false
   },
   "outputs": [
    {
     "name": "stdout",
     "output_type": "stream",
     "text": [
      "[ 2.  3.]\n",
      "[ 1.  2.]\n"
     ]
    }
   ],
   "source": [
    "class modify():\n",
    "    def __init__(self,x):\n",
    "        x = x + 1.\n",
    "        print x\n",
    "        \n",
    "x = np.asarray([1.,2.])\n",
    "m = modify(x)\n",
    "print x"
   ]
  },
  {
   "cell_type": "code",
   "execution_count": 51,
   "metadata": {
    "collapsed": false
   },
   "outputs": [
    {
     "data": {
      "text/plain": [
       "array([ 1766.,  1766.,  1766.,  1766.,  1766.,  1766.])"
      ]
     },
     "execution_count": 51,
     "metadata": {},
     "output_type": "execute_result"
    }
   ],
   "source": [
    "(binaries+1).dot(hashing.mods_list)"
   ]
  },
  {
   "cell_type": "code",
   "execution_count": null,
   "metadata": {
    "collapsed": true
   },
   "outputs": [],
   "source": []
  }
 ],
 "metadata": {
  "kernelspec": {
   "display_name": "Python 2",
   "language": "python",
   "name": "python2"
  },
  "widgets": {
   "state": {},
   "version": "1.1.2"
  }
 },
 "nbformat": 4,
 "nbformat_minor": 0
}
