{
 "cells": [
  {
   "cell_type": "code",
   "execution_count": 1,
   "metadata": {
    "collapsed": false
   },
   "outputs": [
    {
     "name": "stdout",
     "output_type": "stream",
     "text": [
      "Couldn't import dot_parser, loading of dot files will not be possible.\n",
      "Using Theano for CGT compatibility mode\n"
     ]
    }
   ],
   "source": [
    "%matplotlib inline\n",
    "import os\n",
    "os.environ[\"CGT_COMPAT_MODE\"] = \"theano\"\n",
    "os.environ[\"THEANO_FLAGS\"] = \"device=cpu\"\n",
    "import matplotlib.pyplot as plt\n",
    "from mdp import HopperMDP\n",
    "from policy import MujocoPolicy\n",
    "from algo.ppo import explained_variance_1d\n",
    "import numpy as np\n",
    "import sys\n",
    "\n",
    "mdp = HopperMDP()\n",
    "policy = MujocoPolicy(mdp)"
   ]
  },
  {
   "cell_type": "code",
   "execution_count": 2,
   "metadata": {
    "collapsed": false
   },
   "outputs": [],
   "source": [
    "import os\n",
    "data_paths = sorted([path for path in os.listdir(\"data/hopper_100k_newpaths\") if path.endswith(\"npz\")])\n",
    "data_paths = [\"data/hopper_100k_newpaths/%s\" % path for path in data_paths]"
   ]
  },
  {
   "cell_type": "code",
   "execution_count": 3,
   "metadata": {
    "collapsed": false
   },
   "outputs": [],
   "source": [
    "data = np.load(data_paths[0])"
   ]
  },
  {
   "cell_type": "code",
   "execution_count": 4,
   "metadata": {
    "collapsed": true
   },
   "outputs": [],
   "source": [
    "paths = data[\"paths\"]"
   ]
  },
  {
   "cell_type": "code",
   "execution_count": 5,
   "metadata": {
    "collapsed": false
   },
   "outputs": [
    {
     "name": "stdout",
     "output_type": "stream",
     "text": [
      "['rewards', 'pdists', 'advantage', 'actions', 'states', 'returns', 'observations']\n",
      "4960\n"
     ]
    }
   ],
   "source": [
    "print paths[0].keys()\n",
    "print len(paths)"
   ]
  },
  {
   "cell_type": "code",
   "execution_count": 6,
   "metadata": {
    "collapsed": false
   },
   "outputs": [],
   "source": [
    "# We can recover the standard normal random numbers from pdists and actions\n",
    "pdists = np.concatenate([path['pdists'] for path in paths])\n",
    "means, logstds = policy._split_pdist(pdists)\n",
    "actions = np.concatenate([path['actions'] for path in paths])"
   ]
  },
  {
   "cell_type": "code",
   "execution_count": 7,
   "metadata": {
    "collapsed": false
   },
   "outputs": [
    {
     "data": {
      "text/plain": [
       "(array([   312.,   3144.,  16880.,  53944.,  90208.,  83840.,  39648.,\n",
       "         10360.,   1512.,    152.]),\n",
       " array([-3.91162068, -3.1027487 , -2.29387672, -1.48500475, -0.67613277,\n",
       "         0.13273921,  0.94161119,  1.75048317,  2.55935515,  3.36822713,\n",
       "         4.1770991 ]),\n",
       " <a list of 10 Patch objects>)"
      ]
     },
     "execution_count": 7,
     "metadata": {},
     "output_type": "execute_result"
    },
    {
     "data": {
      "image/png": "[encoded data removed]",
      "text/plain": [
       "<matplotlib.figure.Figure at 0x209c8d0>"
      ]
     },
     "metadata": {},
     "output_type": "display_data"
    }
   ],
   "source": [
    "# This should follow the normal distribution\n",
    "srand = (actions - means) / np.exp(logstds)\n",
    "plt.hist(srand.reshape(-1))"
   ]
  },
  {
   "cell_type": "code",
   "execution_count": 8,
   "metadata": {
    "collapsed": false
   },
   "outputs": [
    {
     "data": {
      "text/plain": [
       "(100000, 3)"
      ]
     },
     "execution_count": 8,
     "metadata": {},
     "output_type": "execute_result"
    }
   ],
   "source": [
    "srand.shape"
   ]
  },
  {
   "cell_type": "code",
   "execution_count": 9,
   "metadata": {
    "collapsed": false
   },
   "outputs": [
    {
     "name": "stdout",
     "output_type": "stream",
     "text": [
      "loading data/hopper_100k_newpaths/itr_000.npz\n",
      "loading data/hopper_100k_newpaths/itr_001.npz\n",
      "loading data/hopper_100k_newpaths/itr_002.npz\n",
      "loading data/hopper_100k_newpaths/itr_003.npz\n",
      "loading data/hopper_100k_newpaths/itr_004.npz\n",
      "loading data/hopper_100k_newpaths/itr_005.npz\n",
      "loading data/hopper_100k_newpaths/itr_006.npz\n",
      "loading data/hopper_100k_newpaths/itr_007.npz\n",
      "loading data/hopper_100k_newpaths/itr_008.npz\n",
      "loading data/hopper_100k_newpaths/itr_009.npz\n",
      "loading data/hopper_100k_newpaths/itr_010.npz\n",
      "loading data/hopper_100k_newpaths/itr_011.npz\n",
      "loading data/hopper_100k_newpaths/itr_012.npz\n",
      "loading data/hopper_100k_newpaths/itr_013.npz\n",
      "loading data/hopper_100k_newpaths/itr_014.npz\n",
      "loading data/hopper_100k_newpaths/itr_015.npz\n",
      "loading data/hopper_100k_newpaths/itr_016.npz\n",
      "loading data/hopper_100k_newpaths/itr_017.npz\n",
      "loading data/hopper_100k_newpaths/itr_018.npz\n",
      "loading data/hopper_100k_newpaths/itr_019.npz\n",
      "loading data/hopper_100k_newpaths/itr_020.npz\n",
      "loading data/hopper_100k_newpaths/itr_021.npz\n",
      "loading data/hopper_100k_newpaths/itr_022.npz\n",
      "loading data/hopper_100k_newpaths/itr_023.npz\n",
      "loading data/hopper_100k_newpaths/itr_024.npz\n",
      "loading data/hopper_100k_newpaths/itr_025.npz\n",
      "loading data/hopper_100k_newpaths/itr_026.npz\n",
      "loading data/hopper_100k_newpaths/itr_027.npz\n",
      "loading data/hopper_100k_newpaths/itr_028.npz\n",
      "loading data/hopper_100k_newpaths/itr_029.npz\n",
      "loading data/hopper_100k_newpaths/itr_030.npz\n",
      "loading data/hopper_100k_newpaths/itr_031.npz\n",
      "loading data/hopper_100k_newpaths/itr_032.npz\n",
      "loading data/hopper_100k_newpaths/itr_033.npz\n",
      "loading data/hopper_100k_newpaths/itr_034.npz\n",
      "loading data/hopper_100k_newpaths/itr_035.npz\n",
      "loading data/hopper_100k_newpaths/itr_036.npz\n",
      "loading data/hopper_100k_newpaths/itr_037.npz\n",
      "loading data/hopper_100k_newpaths/itr_038.npz\n",
      "loading data/hopper_100k_newpaths/itr_039.npz\n",
      "loading data/hopper_100k_newpaths/itr_040.npz\n",
      "loading data/hopper_100k_newpaths/itr_041.npz\n",
      "loading data/hopper_100k_newpaths/itr_042.npz\n",
      "loading data/hopper_100k_newpaths/itr_043.npz\n",
      "loading data/hopper_100k_newpaths/itr_044.npz\n",
      "loading data/hopper_100k_newpaths/itr_045.npz\n",
      "loading data/hopper_100k_newpaths/itr_046.npz\n",
      "loading data/hopper_100k_newpaths/itr_047.npz\n",
      "loading data/hopper_100k_newpaths/itr_048.npz\n",
      "loading data/hopper_100k_newpaths/itr_049.npz\n"
     ]
    }
   ],
   "source": [
    "paths_list = []\n",
    "for path in data_paths[:50]:\n",
    "    print \"loading %s\" % path\n",
    "    paths_list.append(np.load(path)[\"paths\"])"
   ]
  },
  {
   "cell_type": "code",
   "execution_count": 12,
   "metadata": {
    "collapsed": false
   },
   "outputs": [
    {
     "name": "stdout",
     "output_type": "stream",
     "text": [
      "50\n"
     ]
    }
   ],
   "source": [
    "print len(paths_list)"
   ]
  },
  {
   "cell_type": "code",
   "execution_count": 24,
   "metadata": {
    "collapsed": false
   },
   "outputs": [
    {
     "name": "stdout",
     "output_type": "stream",
     "text": [
      "0.421962142521 0.244706598344\n",
      "0.360667912829 0.120763397878\n",
      "0.289638633145 0.160594980026\n",
      "0.27077694004 0.166588597965\n",
      "0.22752852682 0.176602367723\n",
      "0.246658198219 0.362929263089\n",
      "0.426039180435 0.553272075439\n",
      "0.590730245702 0.623942052083\n",
      "0.675543883111 0.677862235725\n",
      "0.707499894413 0.755123025117\n",
      "0.776039793721 0.820182684747\n",
      "0.832472728987 0.804206674417\n",
      "0.826774897886 0.842465915988\n",
      "0.851810185109 0.835121137846\n",
      "0.843799512615 0.890419213413\n",
      "0.900166800218 0.806632894598\n",
      "0.843664657932 0.714728097629\n",
      "0.732092833743 0.714565724243\n",
      "0.742243216154 0.67935390236\n",
      "0.699610649597 0.763108193442\n",
      "0.779801099094 0.423415750173\n",
      "0.644723882412 0.778582602509\n",
      "0.820535659904 0.721339282493\n",
      "0.78026133156 0.721089538593\n",
      "0.757093548501 0.818538667803\n",
      "0.842574135026 0.757854814802\n",
      "0.767110349965 0.718291580542\n",
      "0.728072033011 0.625950756093\n",
      "0.645331846733 0.772932467997\n",
      "0.803468291245 0.349509539423\n",
      "0.465397216807 0.656246019933\n",
      "0.736680995752 0.703517243519\n",
      "0.745628327391 0.664153390793\n",
      "0.708483037878 0.602496524393\n",
      "0.63518663955 0.75484376656\n",
      "0.794139925961 0.665552163285\n",
      "0.729969202549 0.636098699335\n",
      "0.737608888407 0.578014275945\n",
      "0.603034038395 0.727445588559\n",
      "0.768719114443 0.726082667786\n",
      "0.750195540544 0.66352258894\n",
      "0.741482281693 0.70557366201\n",
      "0.738209689275 -3.77830962483\n",
      "0.771830606538 0.748107253397\n",
      "0.770619049087 0.759795639097\n",
      "0.77783440149 0.389592799993\n",
      "0.538396611115 0.604286750435\n",
      "0.678196398135 0.639124138585\n",
      "0.65185683264 0.731250680459\n"
     ]
    }
   ],
   "source": [
    "# Let's first reproduce the fitness of the linear value function\n",
    "\n",
    "class HopperValueFunction(object):\n",
    "\n",
    "    def __init__(self):\n",
    "        self.coeffs = None\n",
    "\n",
    "    def get_param_values(self):\n",
    "        return self.coeffs\n",
    "\n",
    "    def set_param_values(self, val):\n",
    "        self.coeffs = val\n",
    "\n",
    "    def _features(self, path):\n",
    "        o = np.clip(path[\"observations\"], -10,10)\n",
    "        l = len(path[\"rewards\"])\n",
    "        al = np.arange(l).reshape(-1,1)/100.0\n",
    "        return np.concatenate([o, o**2, al, al**2, al**3, np.ones((l, 1))], axis=1)\n",
    "\n",
    "    def fit(self, paths):\n",
    "        featmat = np.concatenate([self._features(path) for path in paths])\n",
    "        returns = np.concatenate([path[\"returns\"] for path in paths])\n",
    "        self.coeffs = np.linalg.lstsq(featmat, returns)[0]\n",
    "\n",
    "    def predict(self, path):\n",
    "        if self.coeffs is None:\n",
    "            return np.zeros(len(path[\"rewards\"]))\n",
    "        return self._features(path).dot(self.coeffs)\n",
    "\n",
    "vf = HopperValueFunction()\n",
    "next_evs = []\n",
    "cur_evs = []\n",
    "for paths, next_paths in zip(paths_list, paths_list[1:]):\n",
    "    vf.fit(paths)\n",
    "    predicted_next_returns = np.concatenate([vf.predict(path) for path in next_paths])\n",
    "    predicted_cur_returns = np.concatenate([vf.predict(path) for path in paths])\n",
    "    true_next_returns = np.concatenate([path[\"returns\"] for path in next_paths])\n",
    "    true_cur_returns = np.concatenate([path[\"returns\"] for path in paths])\n",
    "    next_ev = explained_variance_1d(predicted_next_returns, true_next_returns)\n",
    "    cur_ev = explained_variance_1d(predicted_cur_returns, true_cur_returns)\n",
    "    next_evs.append(next_ev)\n",
    "    cur_evs.append(cur_ev)\n",
    "    print cur_ev, next_ev\n",
    "    sys.stdout.flush()"
   ]
  },
  {
   "cell_type": "code",
   "execution_count": 21,
   "metadata": {
    "collapsed": false
   },
   "outputs": [
    {
     "data": {
      "text/plain": [
       "[<matplotlib.lines.Line2D at 0x6dbe9910>]"
      ]
     },
     "execution_count": 21,
     "metadata": {},
     "output_type": "execute_result"
    },
    {
     "data": {
      "image/png": "[encoded data removed]",
      "text/plain": [
       "<matplotlib.figure.Figure at 0x6d72d2d0>"
      ]
     },
     "metadata": {},
     "output_type": "display_data"
    }
   ],
   "source": [
    "plt.plot(evs)"
   ]
  },
  {
   "cell_type": "code",
   "execution_count": 27,
   "metadata": {
    "collapsed": false
   },
   "outputs": [
    {
     "data": {
      "text/plain": [
       "[<matplotlib.lines.Line2D at 0x9215c10>]"
      ]
     },
     "execution_count": 27,
     "metadata": {},
     "output_type": "execute_result"
    },
    {
     "data": {
      "image/png": "[encoded data removed]",
      "text/plain": [
       "<matplotlib.figure.Figure at 0x9eef1d0>"
      ]
     },
     "metadata": {},
     "output_type": "display_data"
    }
   ],
   "source": [
    "plt.plot(np.maximum(0, next_evs))"
   ]
  },
  {
   "cell_type": "markdown",
   "metadata": {},
   "source": [
    "In TRPO, we are optimizing the following surrogate objective:\n",
    "\n",
    "$$ E\\left[\\frac{\\pi_\\theta(a|s)}{\\pi_{old}(a|s)} (Q^{\\pi_{old}} (s, a) - b(s))\\right]$$\n",
    "\n",
    "where $b$ is a baseline. For stochastic policy, the variance in the gradient estimate can be due to the stochastic transition $(s, a) \\mapsto s'$, the stochasticity in the reward function $r(s, a)$, or due to the stochasticity of the policy $\\pi(a\\mid s)$. Note that very often, we can use the reparameterization trick to rewrite the policy as a deterministic function $a = \\pi(\\omega, s)$, where $\\omega \\sim \\mathcal{N}(0, 1)$. Note that the $\\omega$s does not depend on future state, and we can include them in the baseline estimate:\n",
    "\n",
    "$$ b = b(s_t, \\omega_t, \\ldots, \\omega_T) $$\n",
    "\n",
    "For now we can try to train a linear predictor $b = f_s(s_t) + f_t(\\omega_t) + \\ldots + f_T(\\omega_T)$."
   ]
  },
  {
   "cell_type": "code",
   "execution_count": null,
   "metadata": {
    "collapsed": true
   },
   "outputs": [],
   "source": []
  }
 ],
 "metadata": {
  "kernelspec": {
   "display_name": "Python 2",
   "language": "python",
   "name": "python2"
  },
  "language_info": {
   "codemirror_mode": {
    "name": "ipython",
    "version": 2
   },
   "file_extension": ".py",
   "mimetype": "text/x-python",
   "name": "python",
   "nbconvert_exporter": "python",
   "pygments_lexer": "ipython2",
   "version": "2.7.3"
  }
 },
 "nbformat": 4,
 "nbformat_minor": 0
}
